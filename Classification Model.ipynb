{
 "cells": [
  {
   "cell_type": "code",
   "execution_count": 1,
   "id": "deaf4ec3",
   "metadata": {
    "collapsed": true
   },
   "outputs": [
    {
     "name": "stdout",
     "output_type": "stream",
     "text": [
      "\n",
      "===================================BUG REPORT===================================\n",
      "Welcome to bitsandbytes. For bug reports, please run\n",
      "\n",
      "python -m bitsandbytes\n",
      "\n",
      " and submit this information together with your error trace to: https://github.com/TimDettmers/bitsandbytes/issues\n",
      "================================================================================\n",
      "bin /home/mac9908/.local/lib/python3.8/site-packages/bitsandbytes/libbitsandbytes_cuda112.so\n"
     ]
    },
    {
     "name": "stderr",
     "output_type": "stream",
     "text": [
      "/home/mac9908/.local/lib/python3.8/site-packages/bitsandbytes/cuda_setup/main.py:145: UserWarning: WARNING: The following directories listed in your path were found to be non-existent: {PosixPath('/home/mac9908/clara/lp_solve_dev'), PosixPath('/home/mac9908/clara/lp_solve_5.5/lpsolve55/bin/ux64')}\n",
      "  warn(msg)\n"
     ]
    },
    {
     "name": "stdout",
     "output_type": "stream",
     "text": [
      "CUDA SETUP: CUDA runtime path found: /shared/rc/tools/spack-ng-test/opt/spack/linux-rhel7-skylake_avx512/gcc-9.3.0/cuda-11.2.2-77ry53ui4fd6hovqdj6u3fxqwdz276qa/targets/x86_64-linux/lib/libcudart.so\n",
      "CUDA SETUP: Highest compute capability among GPUs detected: 8.0\n",
      "CUDA SETUP: Detected CUDA version 112\n",
      "CUDA SETUP: Loading binary /home/mac9908/.local/lib/python3.8/site-packages/bitsandbytes/libbitsandbytes_cuda112.so...\n"
     ]
    },
    {
     "name": "stderr",
     "output_type": "stream",
     "text": [
      "/home/mac9908/.local/lib/python3.8/site-packages/torch/cuda/__init__.py:146: UserWarning: \n",
      "NVIDIA A100-PCIE-40GB with CUDA capability sm_80 is not compatible with the current PyTorch installation.\n",
      "The current PyTorch install supports CUDA capabilities sm_37 sm_50 sm_60 sm_70.\n",
      "If you want to use the NVIDIA A100-PCIE-40GB GPU with PyTorch, please check the instructions at https://pytorch.org/get-started/locally/\n",
      "\n",
      "  warnings.warn(incompatible_device_warn.format(device_name, capability, \" \".join(arch_list), device_name))\n",
      "/.autofs/tools/spack/opt/spack/linux-rhel7-skylake_avx512/gcc-9.3.0/python-3.8.7-vbbky6n2roxmrih3hr2ebndq6rmdoymm/lib/python3.8/site-packages/setuptools/distutils_patch.py:25: UserWarning: Distutils was imported before Setuptools. This usage is discouraged and may exhibit undesirable behaviors or errors. Please use Setuptools' objects directly or at least import Setuptools first.\n",
      "  warnings.warn(\n"
     ]
    }
   ],
   "source": [
    "import sklearn.metrics \n",
    "import numpy as np\n",
    "from transformers import TextClassificationPipeline, AutoTokenizer, AutoConfig, TrainingArguments, Trainer, AutoModelForSequenceClassification, pipeline\n",
    "import pandas as pd\n",
    "import numpy as np\n",
    "from PIL import Image\n",
    "# from wordcloud import WordCloud\n",
    "import matplotlib.pyplot as plt\n",
    "import sklearn.metrics\n",
    "import statistics\n",
    "from collections import Counter\n",
    "import datasets\n",
    "import torch\n",
    "import evaluate\n",
    "import json\n",
    "import matplotlib.pyplot as plt\n",
    "import seaborn as sns"
   ]
  },
  {
   "cell_type": "markdown",
   "id": "319a575b",
   "metadata": {},
   "source": [
    "# Dataset"
   ]
  },
  {
   "cell_type": "code",
   "execution_count": 2,
   "id": "4fd09605",
   "metadata": {},
   "outputs": [],
   "source": [
    "lib = pd.read_csv('data/liberal.csv')\n",
    "\n",
    "lib = lib[~lib['expert_label'].isna()]\n",
    "lib['label'] = lib['label'].map({'asset':0, 'need':1, 'other':2, 'default': 0, 'none': 2})\n",
    "lib['expert_label'] = lib['expert_label'].map({'asset': 0, 'need':1, 'other':2, 'default': 0, 'none': 2})"
   ]
  },
  {
   "cell_type": "code",
   "execution_count": 3,
   "id": "de3314d1",
   "metadata": {},
   "outputs": [],
   "source": [
    "con = pd.read_csv('data/conservative.csv')\n",
    "lib = pd.read_csv('data/liberal.csv')\n",
    "lib = lib[['comment_id', 'subreddit', 'comment', 'expert_label']]\n",
    "lib['text'] = lib['comment']\n",
    "con = con[['comment_id', 'subreddit', 'text', 'expert_label']]\n",
    "df = pd.concat([lib,con])"
   ]
  },
  {
   "cell_type": "code",
   "execution_count": 4,
   "id": "222e6333",
   "metadata": {},
   "outputs": [
    {
     "data": {
      "text/html": [
       "<div>\n",
       "<style scoped>\n",
       "    .dataframe tbody tr th:only-of-type {\n",
       "        vertical-align: middle;\n",
       "    }\n",
       "\n",
       "    .dataframe tbody tr th {\n",
       "        vertical-align: top;\n",
       "    }\n",
       "\n",
       "    .dataframe thead th {\n",
       "        text-align: right;\n",
       "    }\n",
       "</style>\n",
       "<table border=\"1\" class=\"dataframe\">\n",
       "  <thead>\n",
       "    <tr style=\"text-align: right;\">\n",
       "      <th></th>\n",
       "      <th>comment_id</th>\n",
       "      <th>subreddit</th>\n",
       "      <th>comment</th>\n",
       "      <th>expert_label</th>\n",
       "      <th>text</th>\n",
       "    </tr>\n",
       "  </thead>\n",
       "  <tbody>\n",
       "    <tr>\n",
       "      <th>0</th>\n",
       "      <td>hl4e1z1</td>\n",
       "      <td>nyc</td>\n",
       "      <td>I feel the frequency at which we are seeing fe...</td>\n",
       "      <td>need</td>\n",
       "      <td>I feel the frequency at which we are seeing fe...</td>\n",
       "    </tr>\n",
       "    <tr>\n",
       "      <th>1</th>\n",
       "      <td>hl4gpev</td>\n",
       "      <td>nyc</td>\n",
       "      <td>Yes but implying that Chinese people produce f...</td>\n",
       "      <td>other</td>\n",
       "      <td>Yes but implying that Chinese people produce f...</td>\n",
       "    </tr>\n",
       "    <tr>\n",
       "      <th>2</th>\n",
       "      <td>hl4qjuw</td>\n",
       "      <td>nyc</td>\n",
       "      <td>there are multiple shrooms-only services aroun...</td>\n",
       "      <td>other</td>\n",
       "      <td>there are multiple shrooms-only services aroun...</td>\n",
       "    </tr>\n",
       "    <tr>\n",
       "      <th>3</th>\n",
       "      <td>hl4qz25</td>\n",
       "      <td>nyc</td>\n",
       "      <td>That's literally what I just said... but okay....</td>\n",
       "      <td>other</td>\n",
       "      <td>That's literally what I just said... but okay....</td>\n",
       "    </tr>\n",
       "    <tr>\n",
       "      <th>4</th>\n",
       "      <td>hl4t623</td>\n",
       "      <td>nyc</td>\n",
       "      <td>yeah in my experience they'll have 2-3 strains...</td>\n",
       "      <td>other</td>\n",
       "      <td>yeah in my experience they'll have 2-3 strains...</td>\n",
       "    </tr>\n",
       "    <tr>\n",
       "      <th>...</th>\n",
       "      <td>...</td>\n",
       "      <td>...</td>\n",
       "      <td>...</td>\n",
       "      <td>...</td>\n",
       "      <td>...</td>\n",
       "    </tr>\n",
       "    <tr>\n",
       "      <th>1111</th>\n",
       "      <td>k6gizkb</td>\n",
       "      <td>okc</td>\n",
       "      <td>NaN</td>\n",
       "      <td>other</td>\n",
       "      <td>Besides the pay, what was actually preventing ...</td>\n",
       "    </tr>\n",
       "    <tr>\n",
       "      <th>1112</th>\n",
       "      <td>je7a7vg</td>\n",
       "      <td>okc</td>\n",
       "      <td>NaN</td>\n",
       "      <td>other</td>\n",
       "      <td>Well, it’s rush hour in a city in a state that...</td>\n",
       "    </tr>\n",
       "    <tr>\n",
       "      <th>1113</th>\n",
       "      <td>kd0v36v</td>\n",
       "      <td>okc</td>\n",
       "      <td>NaN</td>\n",
       "      <td>other</td>\n",
       "      <td>Your latter point is what I don't think the ma...</td>\n",
       "    </tr>\n",
       "    <tr>\n",
       "      <th>1114</th>\n",
       "      <td>gka0m99</td>\n",
       "      <td>okc</td>\n",
       "      <td>NaN</td>\n",
       "      <td>need</td>\n",
       "      <td>But is it really isolated to that area? I hear...</td>\n",
       "    </tr>\n",
       "    <tr>\n",
       "      <th>1115</th>\n",
       "      <td>kcemrww</td>\n",
       "      <td>okc</td>\n",
       "      <td>NaN</td>\n",
       "      <td>other</td>\n",
       "      <td>Bro yall need to learn what words mean. It’s n...</td>\n",
       "    </tr>\n",
       "  </tbody>\n",
       "</table>\n",
       "<p>3533 rows × 5 columns</p>\n",
       "</div>"
      ],
      "text/plain": [
       "     comment_id subreddit                                            comment  \\\n",
       "0       hl4e1z1       nyc  I feel the frequency at which we are seeing fe...   \n",
       "1       hl4gpev       nyc  Yes but implying that Chinese people produce f...   \n",
       "2       hl4qjuw       nyc  there are multiple shrooms-only services aroun...   \n",
       "3       hl4qz25       nyc  That's literally what I just said... but okay....   \n",
       "4       hl4t623       nyc  yeah in my experience they'll have 2-3 strains...   \n",
       "...         ...       ...                                                ...   \n",
       "1111    k6gizkb       okc                                                NaN   \n",
       "1112    je7a7vg       okc                                                NaN   \n",
       "1113    kd0v36v       okc                                                NaN   \n",
       "1114    gka0m99       okc                                                NaN   \n",
       "1115    kcemrww       okc                                                NaN   \n",
       "\n",
       "     expert_label                                               text  \n",
       "0            need  I feel the frequency at which we are seeing fe...  \n",
       "1           other  Yes but implying that Chinese people produce f...  \n",
       "2           other  there are multiple shrooms-only services aroun...  \n",
       "3           other  That's literally what I just said... but okay....  \n",
       "4           other  yeah in my experience they'll have 2-3 strains...  \n",
       "...           ...                                                ...  \n",
       "1111        other  Besides the pay, what was actually preventing ...  \n",
       "1112        other  Well, it’s rush hour in a city in a state that...  \n",
       "1113        other  Your latter point is what I don't think the ma...  \n",
       "1114         need  But is it really isolated to that area? I hear...  \n",
       "1115        other  Bro yall need to learn what words mean. It’s n...  \n",
       "\n",
       "[3533 rows x 5 columns]"
      ]
     },
     "execution_count": 4,
     "metadata": {},
     "output_type": "execute_result"
    }
   ],
   "source": [
    "df"
   ]
  },
  {
   "cell_type": "code",
   "execution_count": 5,
   "id": "cd6bd2c1",
   "metadata": {},
   "outputs": [
    {
     "name": "stderr",
     "output_type": "stream",
     "text": [
      "/tmp/ipykernel_28637/1742729333.py:3: SettingWithCopyWarning: \n",
      "A value is trying to be set on a copy of a slice from a DataFrame.\n",
      "Try using .loc[row_indexer,col_indexer] = value instead\n",
      "\n",
      "See the caveats in the documentation: https://pandas.pydata.org/pandas-docs/stable/user_guide/indexing.html#returning-a-view-versus-a-copy\n",
      "  df['label'] = df['label'].map({'asset':'asset', 'need':'need', 'other':'other', 'default': 'asset'})\n"
     ]
    },
    {
     "data": {
      "text/html": [
       "<div>\n",
       "<style scoped>\n",
       "    .dataframe tbody tr th:only-of-type {\n",
       "        vertical-align: middle;\n",
       "    }\n",
       "\n",
       "    .dataframe tbody tr th {\n",
       "        vertical-align: top;\n",
       "    }\n",
       "\n",
       "    .dataframe thead th {\n",
       "        text-align: right;\n",
       "    }\n",
       "</style>\n",
       "<table border=\"1\" class=\"dataframe\">\n",
       "  <thead>\n",
       "    <tr style=\"text-align: right;\">\n",
       "      <th></th>\n",
       "      <th>comment_id</th>\n",
       "      <th>subreddit</th>\n",
       "      <th>text</th>\n",
       "      <th>label</th>\n",
       "    </tr>\n",
       "  </thead>\n",
       "  <tbody>\n",
       "    <tr>\n",
       "      <th>0</th>\n",
       "      <td>hl4e1z1</td>\n",
       "      <td>nyc</td>\n",
       "      <td>I feel the frequency at which we are seeing fe...</td>\n",
       "      <td>need</td>\n",
       "    </tr>\n",
       "    <tr>\n",
       "      <th>1</th>\n",
       "      <td>hl4gpev</td>\n",
       "      <td>nyc</td>\n",
       "      <td>Yes but implying that Chinese people produce f...</td>\n",
       "      <td>other</td>\n",
       "    </tr>\n",
       "    <tr>\n",
       "      <th>2</th>\n",
       "      <td>hl4qjuw</td>\n",
       "      <td>nyc</td>\n",
       "      <td>there are multiple shrooms-only services aroun...</td>\n",
       "      <td>other</td>\n",
       "    </tr>\n",
       "    <tr>\n",
       "      <th>3</th>\n",
       "      <td>hl4qz25</td>\n",
       "      <td>nyc</td>\n",
       "      <td>That's literally what I just said... but okay....</td>\n",
       "      <td>other</td>\n",
       "    </tr>\n",
       "    <tr>\n",
       "      <th>4</th>\n",
       "      <td>hl4t623</td>\n",
       "      <td>nyc</td>\n",
       "      <td>yeah in my experience they'll have 2-3 strains...</td>\n",
       "      <td>other</td>\n",
       "    </tr>\n",
       "    <tr>\n",
       "      <th>...</th>\n",
       "      <td>...</td>\n",
       "      <td>...</td>\n",
       "      <td>...</td>\n",
       "      <td>...</td>\n",
       "    </tr>\n",
       "    <tr>\n",
       "      <th>1111</th>\n",
       "      <td>k6gizkb</td>\n",
       "      <td>okc</td>\n",
       "      <td>Besides the pay, what was actually preventing ...</td>\n",
       "      <td>other</td>\n",
       "    </tr>\n",
       "    <tr>\n",
       "      <th>1112</th>\n",
       "      <td>je7a7vg</td>\n",
       "      <td>okc</td>\n",
       "      <td>Well, it’s rush hour in a city in a state that...</td>\n",
       "      <td>other</td>\n",
       "    </tr>\n",
       "    <tr>\n",
       "      <th>1113</th>\n",
       "      <td>kd0v36v</td>\n",
       "      <td>okc</td>\n",
       "      <td>Your latter point is what I don't think the ma...</td>\n",
       "      <td>other</td>\n",
       "    </tr>\n",
       "    <tr>\n",
       "      <th>1114</th>\n",
       "      <td>gka0m99</td>\n",
       "      <td>okc</td>\n",
       "      <td>But is it really isolated to that area? I hear...</td>\n",
       "      <td>need</td>\n",
       "    </tr>\n",
       "    <tr>\n",
       "      <th>1115</th>\n",
       "      <td>kcemrww</td>\n",
       "      <td>okc</td>\n",
       "      <td>Bro yall need to learn what words mean. It’s n...</td>\n",
       "      <td>other</td>\n",
       "    </tr>\n",
       "  </tbody>\n",
       "</table>\n",
       "<p>3512 rows × 4 columns</p>\n",
       "</div>"
      ],
      "text/plain": [
       "     comment_id subreddit                                               text  \\\n",
       "0       hl4e1z1       nyc  I feel the frequency at which we are seeing fe...   \n",
       "1       hl4gpev       nyc  Yes but implying that Chinese people produce f...   \n",
       "2       hl4qjuw       nyc  there are multiple shrooms-only services aroun...   \n",
       "3       hl4qz25       nyc  That's literally what I just said... but okay....   \n",
       "4       hl4t623       nyc  yeah in my experience they'll have 2-3 strains...   \n",
       "...         ...       ...                                                ...   \n",
       "1111    k6gizkb       okc  Besides the pay, what was actually preventing ...   \n",
       "1112    je7a7vg       okc  Well, it’s rush hour in a city in a state that...   \n",
       "1113    kd0v36v       okc  Your latter point is what I don't think the ma...   \n",
       "1114    gka0m99       okc  But is it really isolated to that area? I hear...   \n",
       "1115    kcemrww       okc  Bro yall need to learn what words mean. It’s n...   \n",
       "\n",
       "      label  \n",
       "0      need  \n",
       "1     other  \n",
       "2     other  \n",
       "3     other  \n",
       "4     other  \n",
       "...     ...  \n",
       "1111  other  \n",
       "1112  other  \n",
       "1113  other  \n",
       "1114   need  \n",
       "1115  other  \n",
       "\n",
       "[3512 rows x 4 columns]"
      ]
     },
     "execution_count": 5,
     "metadata": {},
     "output_type": "execute_result"
    }
   ],
   "source": [
    "df['label'] = df['expert_label']\n",
    "df = df[['comment_id', 'subreddit', 'text', 'label']]\n",
    "df['label'] = df['label'].map({'asset':'asset', 'need':'need', 'other':'other', 'default': 'asset'})\n",
    "df = df[~df['label'].isna()]\n",
    "df"
   ]
  },
  {
   "cell_type": "code",
   "execution_count": 6,
   "id": "aeac479e",
   "metadata": {},
   "outputs": [
    {
     "data": {
      "text/plain": [
       "subreddit\n",
       "Brooklyn            264\n",
       "ColoradoSprings     400\n",
       "E8                    1\n",
       "Queens               46\n",
       "Rochester           599\n",
       "VirginiaBeach       200\n",
       "bronx                33\n",
       "jacksonville        200\n",
       "manhattan             4\n",
       "mesaaz              116\n",
       "nyc                1449\n",
       "okc                 200\n",
       "Name: subreddit, dtype: int64"
      ]
     },
     "execution_count": 6,
     "metadata": {},
     "output_type": "execute_result"
    }
   ],
   "source": [
    "df.groupby('subreddit')['subreddit'].count()"
   ]
  },
  {
   "cell_type": "code",
   "execution_count": 7,
   "id": "f7e5ad9f",
   "metadata": {},
   "outputs": [
    {
     "data": {
      "text/html": [
       "<div>\n",
       "<style scoped>\n",
       "    .dataframe tbody tr th:only-of-type {\n",
       "        vertical-align: middle;\n",
       "    }\n",
       "\n",
       "    .dataframe tbody tr th {\n",
       "        vertical-align: top;\n",
       "    }\n",
       "\n",
       "    .dataframe thead th {\n",
       "        text-align: right;\n",
       "    }\n",
       "</style>\n",
       "<table border=\"1\" class=\"dataframe\">\n",
       "  <thead>\n",
       "    <tr style=\"text-align: right;\">\n",
       "      <th></th>\n",
       "      <th>comment_id</th>\n",
       "      <th>subreddit</th>\n",
       "      <th>text</th>\n",
       "      <th>label</th>\n",
       "    </tr>\n",
       "  </thead>\n",
       "  <tbody>\n",
       "    <tr>\n",
       "      <th>0</th>\n",
       "      <td>hl4e1z1</td>\n",
       "      <td>nyc</td>\n",
       "      <td>I feel the frequency at which we are seeing fe...</td>\n",
       "      <td>need</td>\n",
       "    </tr>\n",
       "    <tr>\n",
       "      <th>1</th>\n",
       "      <td>hl4gpev</td>\n",
       "      <td>nyc</td>\n",
       "      <td>Yes but implying that Chinese people produce f...</td>\n",
       "      <td>other</td>\n",
       "    </tr>\n",
       "    <tr>\n",
       "      <th>2</th>\n",
       "      <td>hl4qjuw</td>\n",
       "      <td>nyc</td>\n",
       "      <td>there are multiple shrooms-only services aroun...</td>\n",
       "      <td>other</td>\n",
       "    </tr>\n",
       "    <tr>\n",
       "      <th>3</th>\n",
       "      <td>hl4qz25</td>\n",
       "      <td>nyc</td>\n",
       "      <td>That's literally what I just said... but okay....</td>\n",
       "      <td>other</td>\n",
       "    </tr>\n",
       "    <tr>\n",
       "      <th>4</th>\n",
       "      <td>hl4t623</td>\n",
       "      <td>nyc</td>\n",
       "      <td>yeah in my experience they'll have 2-3 strains...</td>\n",
       "      <td>other</td>\n",
       "    </tr>\n",
       "    <tr>\n",
       "      <th>...</th>\n",
       "      <td>...</td>\n",
       "      <td>...</td>\n",
       "      <td>...</td>\n",
       "      <td>...</td>\n",
       "    </tr>\n",
       "    <tr>\n",
       "      <th>1111</th>\n",
       "      <td>k6gizkb</td>\n",
       "      <td>okc</td>\n",
       "      <td>Besides the pay, what was actually preventing ...</td>\n",
       "      <td>other</td>\n",
       "    </tr>\n",
       "    <tr>\n",
       "      <th>1112</th>\n",
       "      <td>je7a7vg</td>\n",
       "      <td>okc</td>\n",
       "      <td>Well, it’s rush hour in a city in a state that...</td>\n",
       "      <td>other</td>\n",
       "    </tr>\n",
       "    <tr>\n",
       "      <th>1113</th>\n",
       "      <td>kd0v36v</td>\n",
       "      <td>okc</td>\n",
       "      <td>Your latter point is what I don't think the ma...</td>\n",
       "      <td>other</td>\n",
       "    </tr>\n",
       "    <tr>\n",
       "      <th>1114</th>\n",
       "      <td>gka0m99</td>\n",
       "      <td>okc</td>\n",
       "      <td>But is it really isolated to that area? I hear...</td>\n",
       "      <td>need</td>\n",
       "    </tr>\n",
       "    <tr>\n",
       "      <th>1115</th>\n",
       "      <td>kcemrww</td>\n",
       "      <td>okc</td>\n",
       "      <td>Bro yall need to learn what words mean. It’s n...</td>\n",
       "      <td>other</td>\n",
       "    </tr>\n",
       "  </tbody>\n",
       "</table>\n",
       "<p>3512 rows × 4 columns</p>\n",
       "</div>"
      ],
      "text/plain": [
       "     comment_id subreddit                                               text  \\\n",
       "0       hl4e1z1       nyc  I feel the frequency at which we are seeing fe...   \n",
       "1       hl4gpev       nyc  Yes but implying that Chinese people produce f...   \n",
       "2       hl4qjuw       nyc  there are multiple shrooms-only services aroun...   \n",
       "3       hl4qz25       nyc  That's literally what I just said... but okay....   \n",
       "4       hl4t623       nyc  yeah in my experience they'll have 2-3 strains...   \n",
       "...         ...       ...                                                ...   \n",
       "1111    k6gizkb       okc  Besides the pay, what was actually preventing ...   \n",
       "1112    je7a7vg       okc  Well, it’s rush hour in a city in a state that...   \n",
       "1113    kd0v36v       okc  Your latter point is what I don't think the ma...   \n",
       "1114    gka0m99       okc  But is it really isolated to that area? I hear...   \n",
       "1115    kcemrww       okc  Bro yall need to learn what words mean. It’s n...   \n",
       "\n",
       "      label  \n",
       "0      need  \n",
       "1     other  \n",
       "2     other  \n",
       "3     other  \n",
       "4     other  \n",
       "...     ...  \n",
       "1111  other  \n",
       "1112  other  \n",
       "1113  other  \n",
       "1114   need  \n",
       "1115  other  \n",
       "\n",
       "[3512 rows x 4 columns]"
      ]
     },
     "execution_count": 7,
     "metadata": {},
     "output_type": "execute_result"
    }
   ],
   "source": [
    "df"
   ]
  },
  {
   "cell_type": "code",
   "execution_count": 11,
   "id": "c57a1ad4",
   "metadata": {},
   "outputs": [],
   "source": [
    "df_final = df.drop(columns=['text'])"
   ]
  },
  {
   "cell_type": "code",
   "execution_count": 12,
   "id": "8ea456c4",
   "metadata": {},
   "outputs": [],
   "source": [
    "df_final.to_json('community_needs.jsonl', orient='records', lines=True)"
   ]
  },
  {
   "cell_type": "markdown",
   "id": "388f02f8",
   "metadata": {},
   "source": [
    "# RQ1a - Classification of Needs and Assets"
   ]
  },
  {
   "cell_type": "code",
   "execution_count": 17,
   "id": "28969ff1",
   "metadata": {},
   "outputs": [],
   "source": [
    "class CommunityNeedsAssetsClassifier:\n",
    "    def __init__(self, case='need'):\n",
    "        self.case = case\n",
    "        if case == 'sentiment':\n",
    "            self.labels = ['positive', 'negative', 'neutral']\n",
    "            self.MODEL = f\"cardiffnlp/twitter-roberta-base-sentiment-latest\"\n",
    "        else:\n",
    "            self.labels = ['asset', 'need', 'other']\n",
    "            self.MODEL = f\"bert-base-cased\"\n",
    "        self.tokenizer = AutoTokenizer.from_pretrained(self.MODEL)\n",
    "        self.metric = evaluate.load(\"f1\")\n",
    "        self.cf_metric = evaluate.load(\"BucketHeadP65/confusion_matrix\")\n",
    "        self.classification_report_metric = evaluate.load(\"bstrai/classification_report\")\n",
    "        self.split = 0.2\n",
    "        self.seed = 42\n",
    "        pass\n",
    "    def labelify_sentiment(self, examples):\n",
    "        label_encode = {\n",
    "            'asset': 'Positive',\n",
    "            'need': 'Negative',\n",
    "            'none': 'Neutral',\n",
    "            'other': 'Neutral',\n",
    "        }\n",
    "        sent_encode = {\n",
    "            'Positive': 0,\n",
    "            'Negative': 1,\n",
    "            'Neutral': 2,\n",
    "        }\n",
    "        examples['label'] = label_encode[examples['label']]\n",
    "        examples['label'] = sent_encode[examples['label']]\n",
    "        return examples\n",
    "    def labelify_need(self, examples):\n",
    "        label_encode = {\n",
    "            'asset': 0,\n",
    "            'need': 1,\n",
    "            'none': 2,\n",
    "            'other': 2\n",
    "        }\n",
    "        examples['label'] = label_encode[examples['label']]\n",
    "        return examples\n",
    "    def read_and_split(self, df, config='standard'):\n",
    "        if config=='standard':\n",
    "            dt = datasets.Dataset.from_pandas(df)\n",
    "            dt = dt.train_test_split(test_size=self.split)\n",
    "            small_train=dt['train'].shuffle(seed=self.seed)\n",
    "            small_test=dt['test'].shuffle(seed=self.seed)\n",
    "        elif config=='liberal':\n",
    "            df_train = df[df['subreddit'].isin(['Brooklyn','Queens','Rochester','bronx','manhattan','nyc'])]\n",
    "            df_test = df[~df['subreddit'].isin(['Brooklyn','Queens','Rochester','bronx','manhattan','nyc'])]\n",
    "            small_train = df_train.sample(frac=1)\n",
    "            small_train = datasets.Dataset.from_pandas(small_train)\n",
    "            small_test = df_test.sample(frac=1)\n",
    "            small_test = datasets.Dataset.from_pandas(small_test)\n",
    "        elif config=='conservative':\n",
    "            df_train = df[df['subreddit'].isin(['ColoradoSprings', 'VirginiaBeach', 'jacksonville', 'mesaaz', 'okc'])]\n",
    "            df_test = df[~df['subreddit'].isin(['ColoradoSprings', 'VirginiaBeach', 'jacksonville', 'mesaaz', 'okc'])]\n",
    "            small_train = df_train.sample(frac=1)\n",
    "            small_train = datasets.Dataset.from_pandas(small_train)\n",
    "            small_test = df_test.sample(frac=1)\n",
    "            small_test = datasets.Dataset.from_pandas(small_test)\n",
    "        if self.case == 'need':\n",
    "            small_train = small_train.map(self.labelify_need)\n",
    "            small_test = small_test.map(self.labelify_need)\n",
    "        elif self.case=='sentiment':\n",
    "            small_train = small_train.map(self.labelify_sentiment)\n",
    "            small_test = small_test.map(self.labelify_sentiment)\n",
    "        return small_train, small_test\n",
    "    def tokenize_function(self, examples):\n",
    "        return self.tokenizer(examples[\"text\"], padding=\"max_length\", truncation=True, max_length=512)\n",
    "    def report(self, eval_pred):\n",
    "        logits, labels = eval_pred\n",
    "        predictions = np.argmax(logits, axis=-1)\n",
    "        return self.classification_report_metric.compute(predictions=predictions, references=labels)\n",
    "    def conf_matrix_calc(self, eval_pred):\n",
    "        logits, labels = eval_pred\n",
    "        predictions = np.argmax(logits, axis=-1)\n",
    "        return self.cf_metric.compute(predictions=predictions, references=labels)\n",
    "    def compute_metrics(self, eval_pred):\n",
    "        logits, labels = eval_pred\n",
    "        predictions = np.argmax(logits, axis=-1)\n",
    "        return self.metric.compute(predictions=predictions, references=labels, average=\"weighted\")"
   ]
  },
  {
   "cell_type": "code",
   "execution_count": 138,
   "id": "e881eb32",
   "metadata": {},
   "outputs": [],
   "source": [
    "def train(df, case='need',config='standard', batch_size=32, epochs=10):\n",
    "    cna = CommunityNeedsAssetsClassifier(case=case)\n",
    "    train, test = cna.read_and_split(df=df, config=config)\n",
    "    print(train)\n",
    "    print(test)\n",
    "    train = train.map(cna.tokenize_function, batched=True)\n",
    "    test = test.map(cna.tokenize_function, batched=True)\n",
    "    model = AutoModelForSequenceClassification.from_pretrained(\"bert-base-cased\", \n",
    "                                                            num_labels=3, \n",
    "                                                            id2label={\n",
    "                                                                0: \"asset\",\n",
    "                                                                1: \"need\",\n",
    "                                                                2: \"other\"\n",
    "                                                            },\n",
    "                                                            label2id={\n",
    "                                                                \"asset\": 0,\n",
    "                                                                \"need\": 1,\n",
    "                                                                \"other\": 2\n",
    "                                                            })\n",
    "    training_args = TrainingArguments(\n",
    "        output_dir=f\"{case}_classification_checkpoints\", \n",
    "        evaluation_strategy=\"epoch\", \n",
    "        save_strategy=\"epoch\",\n",
    "        per_device_train_batch_size=batch_size,\n",
    "        per_device_eval_batch_size=batch_size,\n",
    "        num_train_epochs=epochs\n",
    "    )\n",
    "    trainer = Trainer(\n",
    "        model=model,\n",
    "        args=training_args,\n",
    "        train_dataset=train,\n",
    "        eval_dataset=test,\n",
    "        compute_metrics=cna.compute_metrics,\n",
    "    )\n",
    "    trainer.train()\n",
    "    trainer.save_model(f'{case}_{config}_classification')\n",
    "    \n",
    "def eval(df, case='need', config='standard', batch_size=32):      \n",
    "    cna = CommunityNeedsAssetsClassifier(case=case)\n",
    "    train, test = cna.read_and_split(df=df, config=config)\n",
    "    train = train.map(cna.tokenize_function, batched=True)\n",
    "    test = test.map(cna.tokenize_function, batched=True)\n",
    "    if case=='need':\n",
    "        model = AutoModelForSequenceClassification.from_pretrained(f'{case}_{config}_classification')\n",
    "        training_args = TrainingArguments(output_dir=f\"{case}_classification_checkpoints\", \n",
    "                            evaluation_strategy=\"epoch\", \n",
    "                            save_strategy=\"epoch\",\n",
    "                            per_device_train_batch_size=batch_size,\n",
    "                            per_device_eval_batch_size=batch_size)\n",
    "        trainer = Trainer(\n",
    "            model=model,\n",
    "            args=training_args,\n",
    "            compute_metrics=cna.conf_matrix_calc\n",
    "        )\n",
    "        result = trainer.evaluate(eval_dataset=test)\n",
    "        with open(f'conf_matrix_{case}_{config}.json', 'w') as f:\n",
    "            f.write(json.dumps(\n",
    "                {\n",
    "                    'loss': result['eval_loss'],\n",
    "                    'confusion_matrix': result['eval_confusion_matrix'].tolist()\n",
    "                }\n",
    "            ))\n",
    "\n",
    "        visualize(result['eval_confusion_matrix'], config=config, case=case)\n",
    "        trainer = Trainer(\n",
    "            model=model,\n",
    "            args=training_args,\n",
    "            compute_metrics=cna.report\n",
    "        )\n",
    "        result = trainer.evaluate(eval_dataset=test)\n",
    "        print(result)\n",
    "        with open(f'{case}_{config}_classification_report.json', 'w') as f:\n",
    "            f.write(json.dumps(result))\n",
    "    elif case=='sentiment':\n",
    "        senti = pipeline(\"sentiment-analysis\", model=cna.MODEL, tokenizer=cna.tokenizer, device=0)\n",
    "        res = senti(df['text'].tolist(), padding=True,truncation=True,max_length=512)\n",
    "        predict = [p['label'] for p in res]\n",
    "        df['predict'] = predict\n",
    "        df['predict'] = df['predict'].map({'positive':'asset', 'negative': 'need', 'neutral': 'other'})\n",
    "        display(sklearn.metrics.classification_report(y_pred=df['predict'], y_true=df['label'], output_dict=True))\n",
    "        cm = sklearn.metrics.confusion_matrix(y_pred=df['predict'], y_true=df['label'], labels=[\"asset\", \"need\", \"other\"])\n",
    "        disp = sklearn.metrics.ConfusionMatrixDisplay(confusion_matrix=cm)\n",
    "        disp.plot()\n",
    "        plt.show()\n",
    "        return df\n",
    "        \n",
    "def visualize(conf_matrix, config='standard', case='need'):\n",
    "    plt.figure(figsize=(8,6), dpi=100)\n",
    "    sns.set(font_scale = 1.1)\n",
    "    ax = sns.heatmap(conf_matrix, annot=True, fmt='d')\n",
    "    if case == 'need' or case=='llm':\n",
    "        ax.set_xlabel('Predicted', fontsize=14)\n",
    "        ax.xaxis.set_ticklabels([\n",
    "            'asset',\n",
    "            'need',\n",
    "            'other'\n",
    "        ])\n",
    "        ax.set_ylabel('Observed', fontsize=14)\n",
    "        ax.yaxis.set_ticklabels([\n",
    "            'asset',\n",
    "            'need',\n",
    "            'other'\n",
    "        ])\n",
    "    elif case == 'sentiment':\n",
    "        ax.set_xlabel('Predicted', fontsize=14)\n",
    "        ax.xaxis.set_ticklabels([\n",
    "            'Positive',\n",
    "            'Negative',\n",
    "            'Neutral'\n",
    "        ])\n",
    "        ax.set_ylabel('Observed', fontsize=14)\n",
    "        ax.yaxis.set_ticklabels([\n",
    "            'asset',\n",
    "            'need',\n",
    "            'other'\n",
    "        ])\n",
    "    ax.set_title('', fontsize=18)\n",
    "    plt.savefig(f'Confusion Matrix for {case}_{config}')\n",
    "    plt.show()"
   ]
  },
  {
   "cell_type": "markdown",
   "id": "7bed73ca",
   "metadata": {},
   "source": [
    "## Classification Results"
   ]
  },
  {
   "cell_type": "markdown",
   "id": "c2df5bca",
   "metadata": {},
   "source": [
    "### Supervised Classification"
   ]
  },
  {
   "cell_type": "code",
   "execution_count": 13,
   "id": "104c7c7c",
   "metadata": {},
   "outputs": [
    {
     "data": {
      "application/vnd.jupyter.widget-view+json": {
       "model_id": "463d4aa7c71c48aaa415581ecaf73d86",
       "version_major": 2,
       "version_minor": 0
      },
      "text/plain": [
       "Map:   0%|          | 0/2809 [00:00<?, ? examples/s]"
      ]
     },
     "metadata": {},
     "output_type": "display_data"
    },
    {
     "data": {
      "application/vnd.jupyter.widget-view+json": {
       "model_id": "722b7b759a6d4d1ab510a46e14ab379e",
       "version_major": 2,
       "version_minor": 0
      },
      "text/plain": [
       "Map:   0%|          | 0/703 [00:00<?, ? examples/s]"
      ]
     },
     "metadata": {},
     "output_type": "display_data"
    },
    {
     "data": {
      "application/vnd.jupyter.widget-view+json": {
       "model_id": "bc0ee2c887d140e48250886f6e9d65e6",
       "version_major": 2,
       "version_minor": 0
      },
      "text/plain": [
       "Map:   0%|          | 0/2809 [00:00<?, ? examples/s]"
      ]
     },
     "metadata": {},
     "output_type": "display_data"
    },
    {
     "data": {
      "application/vnd.jupyter.widget-view+json": {
       "model_id": "d70d49752d124fd08a5cd66a98f5a8f5",
       "version_major": 2,
       "version_minor": 0
      },
      "text/plain": [
       "Map:   0%|          | 0/703 [00:00<?, ? examples/s]"
      ]
     },
     "metadata": {},
     "output_type": "display_data"
    },
    {
     "name": "stderr",
     "output_type": "stream",
     "text": [
      "Some weights of BertForSequenceClassification were not initialized from the model checkpoint at bert-base-cased and are newly initialized: ['classifier.weight', 'classifier.bias']\n",
      "You should probably TRAIN this model on a down-stream task to be able to use it for predictions and inference.\n",
      "Failed to detect the name of this notebook, you can set it manually with the WANDB_NOTEBOOK_NAME environment variable to enable code saving.\n",
      "\u001b[34m\u001b[1mwandb\u001b[0m: Currently logged in as: \u001b[33mmac9908\u001b[0m (\u001b[33murban-data-science\u001b[0m). Use \u001b[1m`wandb login --relogin`\u001b[0m to force relogin\n"
     ]
    },
    {
     "data": {
      "text/html": [
       "wandb version 0.16.1 is available!  To upgrade, please run:\n",
       " $ pip install wandb --upgrade"
      ],
      "text/plain": [
       "<IPython.core.display.HTML object>"
      ]
     },
     "metadata": {},
     "output_type": "display_data"
    },
    {
     "data": {
      "text/html": [
       "Tracking run with wandb version 0.15.3"
      ],
      "text/plain": [
       "<IPython.core.display.HTML object>"
      ]
     },
     "metadata": {},
     "output_type": "display_data"
    },
    {
     "data": {
      "text/html": [
       "Run data is saved locally in <code>/home/mac9908/community_needs/icwsm/notebook/wandb/run-20231222_135248-ac4exll6</code>"
      ],
      "text/plain": [
       "<IPython.core.display.HTML object>"
      ]
     },
     "metadata": {},
     "output_type": "display_data"
    },
    {
     "data": {
      "text/html": [
       "Syncing run <strong><a href='https://wandb.ai/urban-data-science/huggingface/runs/ac4exll6' target=\"_blank\">absurd-bee-96</a></strong> to <a href='https://wandb.ai/urban-data-science/huggingface' target=\"_blank\">Weights & Biases</a> (<a href='https://wandb.me/run' target=\"_blank\">docs</a>)<br/>"
      ],
      "text/plain": [
       "<IPython.core.display.HTML object>"
      ]
     },
     "metadata": {},
     "output_type": "display_data"
    },
    {
     "data": {
      "text/html": [
       " View project at <a href='https://wandb.ai/urban-data-science/huggingface' target=\"_blank\">https://wandb.ai/urban-data-science/huggingface</a>"
      ],
      "text/plain": [
       "<IPython.core.display.HTML object>"
      ]
     },
     "metadata": {},
     "output_type": "display_data"
    },
    {
     "data": {
      "text/html": [
       " View run at <a href='https://wandb.ai/urban-data-science/huggingface/runs/ac4exll6' target=\"_blank\">https://wandb.ai/urban-data-science/huggingface/runs/ac4exll6</a>"
      ],
      "text/plain": [
       "<IPython.core.display.HTML object>"
      ]
     },
     "metadata": {},
     "output_type": "display_data"
    },
    {
     "data": {
      "text/html": [
       "\n",
       "    <div>\n",
       "      \n",
       "      <progress value='880' max='880' style='width:300px; height:20px; vertical-align: middle;'></progress>\n",
       "      [880/880 12:22, Epoch 10/10]\n",
       "    </div>\n",
       "    <table border=\"1\" class=\"dataframe\">\n",
       "  <thead>\n",
       " <tr style=\"text-align: left;\">\n",
       "      <th>Epoch</th>\n",
       "      <th>Training Loss</th>\n",
       "      <th>Validation Loss</th>\n",
       "      <th>F1</th>\n",
       "    </tr>\n",
       "  </thead>\n",
       "  <tbody>\n",
       "    <tr>\n",
       "      <td>1</td>\n",
       "      <td>No log</td>\n",
       "      <td>0.627564</td>\n",
       "      <td>0.716695</td>\n",
       "    </tr>\n",
       "    <tr>\n",
       "      <td>2</td>\n",
       "      <td>No log</td>\n",
       "      <td>0.653849</td>\n",
       "      <td>0.719387</td>\n",
       "    </tr>\n",
       "    <tr>\n",
       "      <td>3</td>\n",
       "      <td>No log</td>\n",
       "      <td>0.817749</td>\n",
       "      <td>0.735081</td>\n",
       "    </tr>\n",
       "    <tr>\n",
       "      <td>4</td>\n",
       "      <td>No log</td>\n",
       "      <td>1.025806</td>\n",
       "      <td>0.746230</td>\n",
       "    </tr>\n",
       "    <tr>\n",
       "      <td>5</td>\n",
       "      <td>No log</td>\n",
       "      <td>1.352828</td>\n",
       "      <td>0.723181</td>\n",
       "    </tr>\n",
       "    <tr>\n",
       "      <td>6</td>\n",
       "      <td>0.292100</td>\n",
       "      <td>1.545347</td>\n",
       "      <td>0.719717</td>\n",
       "    </tr>\n",
       "    <tr>\n",
       "      <td>7</td>\n",
       "      <td>0.292100</td>\n",
       "      <td>1.637131</td>\n",
       "      <td>0.743237</td>\n",
       "    </tr>\n",
       "    <tr>\n",
       "      <td>8</td>\n",
       "      <td>0.292100</td>\n",
       "      <td>1.628030</td>\n",
       "      <td>0.729257</td>\n",
       "    </tr>\n",
       "    <tr>\n",
       "      <td>9</td>\n",
       "      <td>0.292100</td>\n",
       "      <td>1.648588</td>\n",
       "      <td>0.738917</td>\n",
       "    </tr>\n",
       "    <tr>\n",
       "      <td>10</td>\n",
       "      <td>0.292100</td>\n",
       "      <td>1.691504</td>\n",
       "      <td>0.738882</td>\n",
       "    </tr>\n",
       "  </tbody>\n",
       "</table><p>"
      ],
      "text/plain": [
       "<IPython.core.display.HTML object>"
      ]
     },
     "metadata": {},
     "output_type": "display_data"
    }
   ],
   "source": [
    "train(df)"
   ]
  },
  {
   "cell_type": "code",
   "execution_count": 24,
   "id": "01701b08",
   "metadata": {},
   "outputs": [
    {
     "data": {
      "application/vnd.jupyter.widget-view+json": {
       "model_id": "db9d9d0ed83b4930b68028a02f09f77b",
       "version_major": 2,
       "version_minor": 0
      },
      "text/plain": [
       "Map:   0%|          | 0/2809 [00:00<?, ? examples/s]"
      ]
     },
     "metadata": {},
     "output_type": "display_data"
    },
    {
     "data": {
      "application/vnd.jupyter.widget-view+json": {
       "model_id": "c9c4e4af04bf4468a0795c9f266218b3",
       "version_major": 2,
       "version_minor": 0
      },
      "text/plain": [
       "Map:   0%|          | 0/703 [00:00<?, ? examples/s]"
      ]
     },
     "metadata": {},
     "output_type": "display_data"
    },
    {
     "data": {
      "application/vnd.jupyter.widget-view+json": {
       "model_id": "4cb7bbefdd97411c8e4c83b6adb772b2",
       "version_major": 2,
       "version_minor": 0
      },
      "text/plain": [
       "Map:   0%|          | 0/2809 [00:00<?, ? examples/s]"
      ]
     },
     "metadata": {},
     "output_type": "display_data"
    },
    {
     "data": {
      "application/vnd.jupyter.widget-view+json": {
       "model_id": "53d2004b406242be819ea097bb6b479c",
       "version_major": 2,
       "version_minor": 0
      },
      "text/plain": [
       "Map:   0%|          | 0/703 [00:00<?, ? examples/s]"
      ]
     },
     "metadata": {},
     "output_type": "display_data"
    },
    {
     "data": {
      "text/html": [
       "\n",
       "    <div>\n",
       "      \n",
       "      <progress value='22' max='22' style='width:300px; height:20px; vertical-align: middle;'></progress>\n",
       "      [22/22 00:05]\n",
       "    </div>\n",
       "    "
      ],
      "text/plain": [
       "<IPython.core.display.HTML object>"
      ]
     },
     "metadata": {},
     "output_type": "display_data"
    },
    {
     "data": {
      "image/png": "[encoded data removed]",
      "text/plain": [
       "<Figure size 800x600 with 2 Axes>"
      ]
     },
     "metadata": {},
     "output_type": "display_data"
    },
    {
     "data": {
      "text/html": [
       "\n",
       "    <div>\n",
       "      \n",
       "      <progress value='22' max='22' style='width:300px; height:20px; vertical-align: middle;'></progress>\n",
       "      [22/22 00:05]\n",
       "    </div>\n",
       "    "
      ],
      "text/plain": [
       "<IPython.core.display.HTML object>"
      ]
     },
     "metadata": {},
     "output_type": "display_data"
    },
    {
     "name": "stdout",
     "output_type": "stream",
     "text": [
      "{'eval_loss': 0.3695984184741974, 'eval_0': {'precision': 0.9326923076923077, 'recall': 0.941747572815534, 'f1-score': 0.9371980676328503, 'support': 103}, 'eval_1': {'precision': 0.8922155688622755, 'recall': 0.9490445859872612, 'f1-score': 0.9197530864197532, 'support': 157}, 'eval_2': {'precision': 0.9745370370370371, 'recall': 0.9503386004514672, 'f1-score': 0.9622857142857143, 'support': 443}, 'eval_accuracy': 0.9487908961593172, 'eval_macro avg': {'precision': 0.9331483045305401, 'recall': 0.9470435864180874, 'f1-score': 0.9397456227794393, 'support': 703}, 'eval_weighted avg': {'precision': 0.9500214216374002, 'recall': 0.9487908961593172, 'f1-score': 0.9491112474575479, 'support': 703}, 'eval_runtime': 5.7345, 'eval_samples_per_second': 122.591, 'eval_steps_per_second': 3.836}\n"
     ]
    }
   ],
   "source": [
    "eval(df)"
   ]
  },
  {
   "cell_type": "markdown",
   "id": "cf3133c4",
   "metadata": {},
   "source": [
    "### Sentiment Classification"
   ]
  },
  {
   "cell_type": "code",
   "execution_count": 177,
   "id": "6aa68a2f",
   "metadata": {},
   "outputs": [
    {
     "name": "stderr",
     "output_type": "stream",
     "text": [
      "Some weights of the model checkpoint at cardiffnlp/twitter-roberta-base-sentiment-latest were not used when initializing RobertaForSequenceClassification: ['roberta.pooler.dense.weight', 'roberta.pooler.dense.bias']\n",
      "- This IS expected if you are initializing RobertaForSequenceClassification from the checkpoint of a model trained on another task or with another architecture (e.g. initializing a BertForSequenceClassification model from a BertForPreTraining model).\n",
      "- This IS NOT expected if you are initializing RobertaForSequenceClassification from the checkpoint of a model that you expect to be exactly identical (initializing a BertForSequenceClassification model from a BertForSequenceClassification model).\n"
     ]
    },
    {
     "data": {
      "text/plain": [
       "{'asset': {'precision': 0.4440894568690096,\n",
       "  'recall': 0.5840336134453782,\n",
       "  'f1-score': 0.5045372050816697,\n",
       "  'support': 476},\n",
       " 'need': {'precision': 0.35159235668789807,\n",
       "  'recall': 0.6579261025029798,\n",
       "  'f1-score': 0.4582814445828144,\n",
       "  'support': 839},\n",
       " 'other': {'precision': 0.675531914893617,\n",
       "  'recall': 0.404642694583523,\n",
       "  'f1-score': 0.5061201252490749,\n",
       "  'support': 2197},\n",
       " 'accuracy': 0.48946469248291574,\n",
       " 'macro avg': {'precision': 0.4904045761501749,\n",
       "  'recall': 0.5488674701772936,\n",
       "  'f1-score': 0.48964625830451963,\n",
       "  'support': 3512},\n",
       " 'weighted avg': {'precision': 0.5667756793143712,\n",
       "  'recall': 0.48946469248291574,\n",
       "  'f1-score': 0.49447715170731027,\n",
       "  'support': 3512}}"
      ]
     },
     "metadata": {},
     "output_type": "display_data"
    },
    {
     "data": {
      "image/png": "[encoded data removed]",
      "text/plain": [
       "<Figure size 640x480 with 2 Axes>"
      ]
     },
     "metadata": {},
     "output_type": "display_data"
    }
   ],
   "source": [
    "senti = eval(df, case='sentiment')"
   ]
  },
  {
   "cell_type": "markdown",
   "id": "d26e9b44",
   "metadata": {},
   "source": [
    "### LLM Classification"
   ]
  },
  {
   "cell_type": "code",
   "execution_count": 133,
   "id": "d5eea725",
   "metadata": {},
   "outputs": [],
   "source": [
    "import json\n",
    "import pandas as pd\n",
    "from os.path import join as pjoin\n",
    "import datasets\n",
    "import re\n",
    "import time\n",
    "from tqdm import tqdm\n",
    "import google.generativeai as palm\n",
    "import openai\n",
    "import tiktoken\n",
    "import os\n",
    "import math\n",
    "import sys\n",
    "from dotenv import load_dotenv\n",
    "import argparse\n",
    "import logging\n",
    "\n",
    "class ZeroShotLLM:\n",
    "    def __init__(self,df,folder,file, llm='palm', censor=False, task='need0') -> None:\n",
    "        self.llm = llm\n",
    "        if llm == 'palm':\n",
    "            self.llm_model = 'models/text-bison-001'\n",
    "        elif llm == 'bard':\n",
    "            self.llm_model = 'models/chat-bison-001'\n",
    "        elif llm == 'gemini':\n",
    "            self.llm_model = 'models/gemini-pro'\n",
    "        elif llm == 'chatgpt':\n",
    "            self.encoding = tiktoken.encoding_for_model(\"gpt-3.5-turbo\")\n",
    "        self.task = task\n",
    "        self.filename = file\n",
    "        self.folder = folder\n",
    "        self.censor = 'censored' if censor else 'uncensored'\n",
    "        self.prompt=\"\"\n",
    "        datasets.logging.set_verbosity(datasets.logging.ERROR)\n",
    "        load_dotenv(dotenv_path='secrets.env')\n",
    "        palm.configure(api_key='INSERT_KEY')\n",
    "        self.dataset = datasets.Dataset.from_pandas(df)\n",
    "        \n",
    "    def need_prompt(self, text):\n",
    "        result_format = '{\"answer\": \"\"}'\n",
    "        return f\"\"\"\n",
    "        {text}\n",
    "        \\n\\n\n",
    "        According to the given text, which of the following is this comment talking about?\n",
    "        1. Need: A community issue, problem, or need (Something negative the community concerned with. Or something the community is missing) \n",
    "        2. Asset: A community highlight, strength or asset (Something positive the community has)\n",
    "        3. Other: Other (If unsure write what it is about)\n",
    "        4. None: None of the above (the comment is about something else and has nothing to do with the community)\n",
    "        Answer in JSON in the following format:\n",
    "        {result_format}\n",
    "        \"\"\",128\n",
    "    def need_fewshot_prompt(self, text):\n",
    "        result_format = '{\"answer\": \"\"}'\n",
    "        examples = \"\"\"\n",
    "        \n",
    "        \"\"\"\n",
    "        return f\"\"\"\n",
    "        {text}\n",
    "        \\n\\n\n",
    "        According to the given text, which of the following is this comment talking about?\n",
    "        1. Need: A community issue, problem, or need (Something negative the community concerned with. Or something the community is missing) \n",
    "        2. Asset: A community highlight, strength or asset (Something positive the community has)\n",
    "        3. Other: Other (If unsure write what it is about)\n",
    "        4. None: None of the above (the comment is about something else and has nothing to do with the community)\n",
    "        Examples:\n",
    "        {examples}\n",
    "        Answer in JSON in the following format:\n",
    "        {result_format}\n",
    "        \"\"\",128\n",
    "    def label(self, start=0, end=100, step=10):\n",
    "        datasets.logging.disable_progress_bar()\n",
    "        for i in tqdm(range(start,end,step), desc=\"label\"):\n",
    "            labeler = getattr(self, self.llm)\n",
    "            dt = self.dataset.select(range(i, i+step)).map(lambda x: labeler(x))\n",
    "            dt.to_json(pjoin(self.folder, \n",
    "                             f'{self.llm}_{self.task}_labeled_{i}_{self.filename}.jsonl'\n",
    "                        ))\n",
    "            time.sleep(60)\n",
    "        datasets.logging.enable_progress_bar()\n",
    "\n",
    "    def create_prompt(self, text=\"\"):\n",
    "        fnc = getattr(self, f'{self.task}_prompt')\n",
    "        return fnc(text)\n",
    "    def jsonify(self, x):\n",
    "        jsonify = getattr(self, f\"{self.llm}_{self.task}_jsonify\")\n",
    "        return jsonify(x)\n",
    "    \n",
    "    def parse(self):\n",
    "        folder = self.folder\n",
    "        d = datasets.load_dataset(\n",
    "            pjoin(folder, f'{self.llm}'), \n",
    "            data_files=f\"{self.llm}_{self.task}_labeled.jsonl\", \n",
    "            split=\"train\")\n",
    "        d = d.map(self.jsonify)\n",
    "        d.to_json(pjoin(folder,self.llm, f\"{self.llm}_{self.task}_parsed.jsonl\"))\n",
    "        print(d)\n",
    "        d.cleanup_cache_files()\n",
    "\n",
    "    def combine(self):\n",
    "        datasets.logging.disable_progress_bar()\n",
    "        raw_folder = self.folder\n",
    "        dt = []\n",
    "        for file in tqdm(os.listdir(raw_folder), desc=\"Combine\"):\n",
    "            d = datasets.load_dataset(\n",
    "                raw_folder, \n",
    "                data_files=file, \n",
    "                split=\"train\"\n",
    "            )\n",
    "            d.cleanup_cache_files()\n",
    "            dt.append(d)\n",
    "        res = datasets.concatenate_datasets(dt)\n",
    "        res.to_json(pjoin(self.folder, self.llm, f'{self.llm}_{self.task}_labeled.jsonl'))\n",
    "        datasets.logging.enable_progress_bar()\n",
    "\n",
    "    def palm(self, example):\n",
    "        model = self.llm_model\n",
    "        text = f\"{example['text']}\"\n",
    "        try:\n",
    "            prompt, max_tokens = self.create_prompt(text)\n",
    "            answer = palm.generate_text(\n",
    "                model=model,\n",
    "                prompt=f\"{prompt}\",\n",
    "                temperature=0,\n",
    "                safety_settings=[\n",
    "                    {\n",
    "                        'category':c, \n",
    "                        'threshold': palm.types.HarmBlockThreshold.BLOCK_NONE\n",
    "                    } for c in palm.types.HarmCategory\n",
    "                ],\n",
    "                max_output_tokens=max_tokens\n",
    "            )\n",
    "            example['candidates'] = answer.candidates\n",
    "            return example\n",
    "        except Exception as e:\n",
    "            print(e)\n",
    "    def gemini(self, example):\n",
    "        model = self.llm_model\n",
    "        text = f\"{example['text']}\"\n",
    "        try:\n",
    "            prompt, max_tokens = self.create_prompt(text)\n",
    "            answer = palm.generate_text(\n",
    "                model=model,\n",
    "                prompt=f\"{prompt}\",\n",
    "                temperature=0,\n",
    "                safety_settings=[\n",
    "                    {\n",
    "                        'category':c, \n",
    "                        'threshold': palm.types.HarmBlockThreshold.BLOCK_NONE\n",
    "                    } for c in palm.types.HarmCategory\n",
    "                ],\n",
    "                max_output_tokens=max_tokens\n",
    "            )\n",
    "            example['candidates'] = answer.candidates\n",
    "            return example\n",
    "        except Exception as e:\n",
    "            print(e)\n",
    "    def palm_need_extract(self, text):\n",
    "        objs = re.findall(r'\\{[\\w\\d\\s\\n,:\"\\[\\]\\r]*\\}',text)\n",
    "        print(objs)\n",
    "        return objs\n",
    "    \n",
    "    def palm_need_jsonify(self, x):\n",
    "            candidates = x[\"candidates\"]\n",
    "            safety_ratings = []\n",
    "            labels = []\n",
    "            for c in candidates:\n",
    "                output = c[\"output\"]\n",
    "                safety_ratings += c[\"safety_ratings\"]\n",
    "                output = output.replace(\"```\",\"\")\n",
    "                try:\n",
    "                    labels.append(json.loads(output)['answer'])\n",
    "                except Exception as e:\n",
    "                    label = self.palm_need_extract(output)\n",
    "                    if len(label) >= 1:\n",
    "                        labels.append(label[0])\n",
    "                    elif len(label) == 0:\n",
    "                        # If nothing is assigned then it's N/A\n",
    "                        label = ['Other']\n",
    "                    else:\n",
    "                        print(output)\n",
    "                        raise e\n",
    "                    pass   \n",
    "            try:\n",
    "                x['label_palm'] = labels[0]\n",
    "            except:\n",
    "                print(labels)\n",
    "                x['label_palm'] = 'Other'\n",
    "            x['safety_ratings'] = safety_ratings\n",
    "            return x"
   ]
  },
  {
   "cell_type": "code",
   "execution_count": 124,
   "id": "b104e37f",
   "metadata": {},
   "outputs": [],
   "source": [
    "labeler = ZeroShotLLM(\n",
    "    folder='palm_label',\n",
    "    df=df,\n",
    "    file='palm_label',\n",
    "    llm='palm'\n",
    ")\n",
    "# labeler.label(start=0, end=3520, step=30)"
   ]
  },
  {
   "cell_type": "code",
   "execution_count": 103,
   "id": "fae802e9",
   "metadata": {},
   "outputs": [
    {
     "name": "stderr",
     "output_type": "stream",
     "text": [
      "Combine: 100%|██████████| 117/117 [00:13<00:00,  8.41it/s]\n"
     ]
    }
   ],
   "source": [
    "labeler.combine()"
   ]
  },
  {
   "cell_type": "code",
   "execution_count": 125,
   "id": "dbd8ed38",
   "metadata": {},
   "outputs": [
    {
     "name": "stdout",
     "output_type": "stream",
     "text": [
      "[]\n",
      "[]\n",
      "[]\n",
      "[]\n",
      "Dataset({\n",
      "    features: ['comment_id', 'subreddit', 'text', 'label', 'predict', '__index_level_0__', 'candidates', 'label_palm', 'safety_ratings'],\n",
      "    num_rows: 3510\n",
      "})\n"
     ]
    }
   ],
   "source": [
    "labeler.parse()"
   ]
  },
  {
   "cell_type": "code",
   "execution_count": 126,
   "id": "6192205b",
   "metadata": {},
   "outputs": [],
   "source": [
    "d = pd.read_json('data/palm_need_parsed.jsonl', orient='records', lines=True)"
   ]
  },
  {
   "cell_type": "code",
   "execution_count": 129,
   "id": "dc9034a3",
   "metadata": {},
   "outputs": [
    {
     "data": {
      "text/plain": [
       "label_palm\n",
       "asset     903\n",
       "need     1083\n",
       "other    1524\n",
       "Name: label_palm, dtype: int64"
      ]
     },
     "execution_count": 129,
     "metadata": {},
     "output_type": "execute_result"
    }
   ],
   "source": [
    "d['label_palm'] = d['label_palm'].str.lower()\n",
    "d['label_palm'] = d['label_palm'].map({'asset': 'asset', 'need':'need', 'other':'other', 'none':'other'})\n",
    "d.groupby('label_palm')['label_palm'].count()"
   ]
  },
  {
   "cell_type": "code",
   "execution_count": 130,
   "id": "5b78d296",
   "metadata": {},
   "outputs": [
    {
     "data": {
      "text/plain": [
       "label\n",
       "asset     476\n",
       "need      838\n",
       "other    2196\n",
       "Name: label, dtype: int64"
      ]
     },
     "execution_count": 130,
     "metadata": {},
     "output_type": "execute_result"
    }
   ],
   "source": [
    "d.groupby('label')['label'].count()"
   ]
  },
  {
   "cell_type": "code",
   "execution_count": 132,
   "id": "7f120549",
   "metadata": {},
   "outputs": [
    {
     "data": {
      "text/plain": [
       "{'asset': {'precision': 0.4418604651162791,\n",
       "  'recall': 0.8382352941176471,\n",
       "  'f1-score': 0.5786802030456852,\n",
       "  'support': 476},\n",
       " 'need': {'precision': 0.5152354570637119,\n",
       "  'recall': 0.665871121718377,\n",
       "  'f1-score': 0.5809474232170745,\n",
       "  'support': 838},\n",
       " 'other': {'precision': 0.8156167979002624,\n",
       "  'recall': 0.5660291438979964,\n",
       "  'f1-score': 0.6682795698924732,\n",
       "  'support': 2196},\n",
       " 'accuracy': 0.6267806267806267,\n",
       " 'macro avg': {'precision': 0.5909042400267511,\n",
       "  'recall': 0.6900451865780068,\n",
       "  'f1-score': 0.6093023987184111,\n",
       "  'support': 3510},\n",
       " 'weighted avg': {'precision': 0.6932157785195772,\n",
       "  'recall': 0.6267806267806267,\n",
       "  'f1-score': 0.6352785335582695,\n",
       "  'support': 3510}}"
      ]
     },
     "metadata": {},
     "output_type": "display_data"
    },
    {
     "data": {
      "image/png": "[encoded data removed]",
      "text/plain": [
       "<Figure size 640x480 with 2 Axes>"
      ]
     },
     "metadata": {},
     "output_type": "display_data"
    }
   ],
   "source": [
    "display(sklearn.metrics.classification_report(y_pred=d['label_palm'], y_true=d['label'], output_dict=True))\n",
    "cm = sklearn.metrics.confusion_matrix(y_pred=d['label_palm'], y_true=d['label'], labels=[\"asset\", \"need\", \"other\"])\n",
    "disp = sklearn.metrics.ConfusionMatrixDisplay(confusion_matrix=cm)\n",
    "disp.plot()\n",
    "plt.show()"
   ]
  },
  {
   "cell_type": "code",
   "execution_count": null,
   "id": "0c11bd01",
   "metadata": {},
   "outputs": [],
   "source": []
  },
  {
   "cell_type": "markdown",
   "id": "70238393",
   "metadata": {},
   "source": [
    "## In The Wild"
   ]
  },
  {
   "cell_type": "code",
   "execution_count": 40,
   "id": "acf2f423",
   "metadata": {},
   "outputs": [
    {
     "data": {
      "text/plain": [
       "Dataset({\n",
       "    features: ['submission_id', 'comment_id', 'subreddit', 'title', 'text', 'search_term', 'topic'],\n",
       "    num_rows: 23938\n",
       "})"
      ]
     },
     "execution_count": 40,
     "metadata": {},
     "output_type": "execute_result"
    }
   ],
   "source": [
    "itw = pd.read_json('data/reddit_itw.jsonl', orient='records', lines=True)\n",
    "itw = datasets.Dataset.from_pandas(itw)\n",
    "itw"
   ]
  },
  {
   "cell_type": "code",
   "execution_count": 42,
   "id": "cce1d351",
   "metadata": {},
   "outputs": [],
   "source": [
    "def predict(data, case='need', batch_size=32):\n",
    "    model = AutoModelForSequenceClassification.from_pretrained(f'{case}_classification')\n",
    "    tokenizer = AutoTokenizer.from_pretrained(f\"bert-base-cased\")\n",
    "    cna = CommunityNeedsAssetsClassifier()\n",
    "    def tokenize_function(examples):\n",
    "        return tokenizer(examples[\"text\"], padding=\"max_length\", truncation=True, max_length=512)\n",
    "    test = data.map(tokenize_function, batched=True)\n",
    "    training_args = TrainingArguments(output_dir=f\"{case}_classification_checkpoints\", \n",
    "                                evaluation_strategy=\"epoch\", \n",
    "                                save_strategy=\"epoch\",\n",
    "                                per_device_train_batch_size=batch_size,\n",
    "                                per_device_eval_batch_size=batch_size)\n",
    "    trainer = Trainer(\n",
    "        model=model,\n",
    "        args=training_args,\n",
    "        compute_metrics=cna.conf_matrix_calc\n",
    "    )\n",
    "    result = trainer.predict(test_dataset=test)\n",
    "    df = data.to_pandas()\n",
    "    df['label'] = np.argmax(result.predictions, axis=-1)\n",
    "    return df"
   ]
  },
  {
   "cell_type": "code",
   "execution_count": 43,
   "id": "969bf0a8",
   "metadata": {},
   "outputs": [
    {
     "data": {
      "application/vnd.jupyter.widget-view+json": {
       "model_id": "b12e15cf8d8c47e8bdb8aba69bae8089",
       "version_major": 2,
       "version_minor": 0
      },
      "text/plain": [
       "Map:   0%|          | 0/23938 [00:00<?, ? examples/s]"
      ]
     },
     "metadata": {},
     "output_type": "display_data"
    },
    {
     "data": {
      "text/html": [],
      "text/plain": [
       "<IPython.core.display.HTML object>"
      ]
     },
     "metadata": {},
     "output_type": "display_data"
    }
   ],
   "source": [
    "res = predict(itw)"
   ]
  },
  {
   "cell_type": "code",
   "execution_count": 44,
   "id": "192d59d8",
   "metadata": {},
   "outputs": [
    {
     "data": {
      "text/plain": [
       "label\n",
       "0     1565\n",
       "1     1525\n",
       "2    20848\n",
       "Name: label, dtype: int64"
      ]
     },
     "execution_count": 44,
     "metadata": {},
     "output_type": "execute_result"
    }
   ],
   "source": [
    "res.groupby('label')['label'].count()"
   ]
  },
  {
   "cell_type": "code",
   "execution_count": 46,
   "id": "8fbe3ec6",
   "metadata": {},
   "outputs": [
    {
     "data": {
      "text/plain": [
       "\"Not sure about any of those apartments, but the Regency seems pretty nice from what I've seen/heard of it. There are a few duplexes/fourplexes in the Uptown area that I've seen up for rent too.\\n\\nThe transit system is definitely a lot better than people give it credit for; it covers a veer wide range of areaand includes routes that go to Edmond and Norman, but it doesn't run on Sundays (the Edmond bus doesn't run on Saturdays either). There are also bikes that you can rent throughout the downtown area from a rack and replace at any of the racks in the area.\\n\\nSide note; I'm a barber-stylist who works in Uptown. PM if you're in need once you get here, and I hope it all works out well for you. OKC can be a very fun and cool place if you seek out and find businesses/friends/areas that suit your interests!\""
      ]
     },
     "execution_count": 46,
     "metadata": {},
     "output_type": "execute_result"
    }
   ],
   "source": [
    "res[res['label']==0]['text'].iloc[250]"
   ]
  },
  {
   "cell_type": "code",
   "execution_count": 31,
   "id": "e6083b83",
   "metadata": {},
   "outputs": [
    {
     "data": {
      "text/html": [
       "<div>\n",
       "<style scoped>\n",
       "    .dataframe tbody tr th:only-of-type {\n",
       "        vertical-align: middle;\n",
       "    }\n",
       "\n",
       "    .dataframe tbody tr th {\n",
       "        vertical-align: top;\n",
       "    }\n",
       "\n",
       "    .dataframe thead th {\n",
       "        text-align: right;\n",
       "    }\n",
       "</style>\n",
       "<table border=\"1\" class=\"dataframe\">\n",
       "  <thead>\n",
       "    <tr style=\"text-align: right;\">\n",
       "      <th></th>\n",
       "      <th>submission_id</th>\n",
       "      <th>comment_id</th>\n",
       "      <th>subreddit</th>\n",
       "      <th>title</th>\n",
       "      <th>text</th>\n",
       "      <th>search_term</th>\n",
       "      <th>topic</th>\n",
       "      <th>label</th>\n",
       "    </tr>\n",
       "  </thead>\n",
       "  <tbody>\n",
       "    <tr>\n",
       "      <th>14236</th>\n",
       "      <td>ztsqa1</td>\n",
       "      <td>j1gwzyr</td>\n",
       "      <td>ColoradoSprings</td>\n",
       "      <td>which area should i avoid?</td>\n",
       "      <td>Hey! I’ll get right into it here, one of the p...</td>\n",
       "      <td>community needs</td>\n",
       "      <td>default</td>\n",
       "      <td>asset</td>\n",
       "    </tr>\n",
       "    <tr>\n",
       "      <th>16708</th>\n",
       "      <td>surh4y</td>\n",
       "      <td>hxdp97d</td>\n",
       "      <td>ColoradoSprings</td>\n",
       "      <td>Deaf Community</td>\n",
       "      <td>Try the Deaf Colorado Springs Facebook page. M...</td>\n",
       "      <td>community school</td>\n",
       "      <td>default</td>\n",
       "      <td>asset</td>\n",
       "    </tr>\n",
       "    <tr>\n",
       "      <th>12454</th>\n",
       "      <td>17quirb</td>\n",
       "      <td>k8ev435</td>\n",
       "      <td>ColoradoSprings</td>\n",
       "      <td>Disappointed in election results</td>\n",
       "      <td>There are a lot of “but muh taxes” types in D2...</td>\n",
       "      <td>community</td>\n",
       "      <td>default</td>\n",
       "      <td>asset</td>\n",
       "    </tr>\n",
       "    <tr>\n",
       "      <th>9265</th>\n",
       "      <td>uu5pfk</td>\n",
       "      <td>i9de3yv</td>\n",
       "      <td>ColoradoSprings</td>\n",
       "      <td>Peace out, Colorado Springs!</td>\n",
       "      <td>LOLZ  Drive north on Union or east on Woodmen,...</td>\n",
       "      <td>programs services household receive</td>\n",
       "      <td>entities</td>\n",
       "      <td>asset</td>\n",
       "    </tr>\n",
       "    <tr>\n",
       "      <th>16621</th>\n",
       "      <td>w7sog2</td>\n",
       "      <td>iht42ni</td>\n",
       "      <td>ColoradoSprings</td>\n",
       "      <td>Any In-Person Spanish Classes Available in the...</td>\n",
       "      <td>They currently offer a bachelor's in nursing.</td>\n",
       "      <td>community school</td>\n",
       "      <td>default</td>\n",
       "      <td>asset</td>\n",
       "    </tr>\n",
       "    <tr>\n",
       "      <th>...</th>\n",
       "      <td>...</td>\n",
       "      <td>...</td>\n",
       "      <td>...</td>\n",
       "      <td>...</td>\n",
       "      <td>...</td>\n",
       "      <td>...</td>\n",
       "      <td>...</td>\n",
       "      <td>...</td>\n",
       "    </tr>\n",
       "    <tr>\n",
       "      <th>4347</th>\n",
       "      <td>17gaxij</td>\n",
       "      <td>k6gizkb</td>\n",
       "      <td>okc</td>\n",
       "      <td>Are Oklahoma schools really that bad? And by w...</td>\n",
       "      <td>Besides the pay, what was actually preventing ...</td>\n",
       "      <td>community</td>\n",
       "      <td>default</td>\n",
       "      <td>need</td>\n",
       "    </tr>\n",
       "    <tr>\n",
       "      <th>5397</th>\n",
       "      <td>1262uo9</td>\n",
       "      <td>je7a7vg</td>\n",
       "      <td>okc</td>\n",
       "      <td>Y'all need to learn how to drive</td>\n",
       "      <td>Well, it’s rush hour in a city in a state that...</td>\n",
       "      <td>community</td>\n",
       "      <td>default</td>\n",
       "      <td>need</td>\n",
       "    </tr>\n",
       "    <tr>\n",
       "      <th>7636</th>\n",
       "      <td>18gcixv</td>\n",
       "      <td>kd0v36v</td>\n",
       "      <td>okc</td>\n",
       "      <td>I have the facts and I'm voting YES</td>\n",
       "      <td>Your latter point is what I don't think the ma...</td>\n",
       "      <td>welfare</td>\n",
       "      <td>default</td>\n",
       "      <td>need</td>\n",
       "    </tr>\n",
       "    <tr>\n",
       "      <th>5701</th>\n",
       "      <td>l2zr7v</td>\n",
       "      <td>gka0m99</td>\n",
       "      <td>okc</td>\n",
       "      <td>Buying a house in the \"wheeler district\" (the ...</td>\n",
       "      <td>But is it really isolated to that area? I hear...</td>\n",
       "      <td>community</td>\n",
       "      <td>default</td>\n",
       "      <td>need</td>\n",
       "    </tr>\n",
       "    <tr>\n",
       "      <th>2898</th>\n",
       "      <td>18d26zg</td>\n",
       "      <td>kcemrww</td>\n",
       "      <td>okc</td>\n",
       "      <td>Some thoughts on the new arena</td>\n",
       "      <td>Bro yall need to learn what words mean. It’s n...</td>\n",
       "      <td>programs services household receive</td>\n",
       "      <td>entities</td>\n",
       "      <td>need</td>\n",
       "    </tr>\n",
       "  </tbody>\n",
       "</table>\n",
       "<p>1116 rows × 8 columns</p>\n",
       "</div>"
      ],
      "text/plain": [
       "      submission_id comment_id        subreddit  \\\n",
       "14236        ztsqa1    j1gwzyr  ColoradoSprings   \n",
       "16708        surh4y    hxdp97d  ColoradoSprings   \n",
       "12454       17quirb    k8ev435  ColoradoSprings   \n",
       "9265         uu5pfk    i9de3yv  ColoradoSprings   \n",
       "16621        w7sog2    iht42ni  ColoradoSprings   \n",
       "...             ...        ...              ...   \n",
       "4347        17gaxij    k6gizkb              okc   \n",
       "5397        1262uo9    je7a7vg              okc   \n",
       "7636        18gcixv    kd0v36v              okc   \n",
       "5701         l2zr7v    gka0m99              okc   \n",
       "2898        18d26zg    kcemrww              okc   \n",
       "\n",
       "                                                   title  \\\n",
       "14236                         which area should i avoid?   \n",
       "16708                                     Deaf Community   \n",
       "12454                   Disappointed in election results   \n",
       "9265                        Peace out, Colorado Springs!   \n",
       "16621  Any In-Person Spanish Classes Available in the...   \n",
       "...                                                  ...   \n",
       "4347   Are Oklahoma schools really that bad? And by w...   \n",
       "5397                    Y'all need to learn how to drive   \n",
       "7636                 I have the facts and I'm voting YES   \n",
       "5701   Buying a house in the \"wheeler district\" (the ...   \n",
       "2898                      Some thoughts on the new arena   \n",
       "\n",
       "                                                    text  \\\n",
       "14236  Hey! I’ll get right into it here, one of the p...   \n",
       "16708  Try the Deaf Colorado Springs Facebook page. M...   \n",
       "12454  There are a lot of “but muh taxes” types in D2...   \n",
       "9265   LOLZ  Drive north on Union or east on Woodmen,...   \n",
       "16621      They currently offer a bachelor's in nursing.   \n",
       "...                                                  ...   \n",
       "4347   Besides the pay, what was actually preventing ...   \n",
       "5397   Well, it’s rush hour in a city in a state that...   \n",
       "7636   Your latter point is what I don't think the ma...   \n",
       "5701   But is it really isolated to that area? I hear...   \n",
       "2898   Bro yall need to learn what words mean. It’s n...   \n",
       "\n",
       "                               search_term     topic  label  \n",
       "14236                      community needs   default  asset  \n",
       "16708                     community school   default  asset  \n",
       "12454                            community   default  asset  \n",
       "9265   programs services household receive  entities  asset  \n",
       "16621                     community school   default  asset  \n",
       "...                                    ...       ...    ...  \n",
       "4347                             community   default   need  \n",
       "5397                             community   default   need  \n",
       "7636                               welfare   default   need  \n",
       "5701                             community   default   need  \n",
       "2898   programs services household receive  entities   need  \n",
       "\n",
       "[1116 rows x 8 columns]"
      ]
     },
     "execution_count": 31,
     "metadata": {},
     "output_type": "execute_result"
    }
   ],
   "source": [
    "def build_sample(data, label=0):\n",
    "    data = data[data['label']==label]\n",
    "    cs = data[data['subreddit']=='ColoradoSprings'].sample(200)\n",
    "    vb = data[data['subreddit']=='VirginiaBeach'].sample(100)\n",
    "    jv = data[data['subreddit']=='jacksonville'].sample(100)\n",
    "    mz = data[data['subreddit']=='mesaaz']\n",
    "    okc = data[data['subreddit']=='okc'].sample(100)\n",
    "    cat = pd.concat([cs,vb,jv,mz,okc])\n",
    "    return cat\n",
    "    \n",
    "# asset = res[res['label']==0]\n",
    "# need = res[res['label']==1]\n",
    "asset = build_sample(res)\n",
    "need = build_sample(res, label=1)\n",
    "conservative = pd.concat([asset, need])\n",
    "conservative['label'] = conservative['label'].map({0: \"asset\",1: \"need\",2: \"other\"})\n",
    "conservative"
   ]
  },
  {
   "cell_type": "code",
   "execution_count": 52,
   "id": "2252f256",
   "metadata": {},
   "outputs": [
    {
     "data": {
      "text/html": [
       "<div>\n",
       "<style scoped>\n",
       "    .dataframe tbody tr th:only-of-type {\n",
       "        vertical-align: middle;\n",
       "    }\n",
       "\n",
       "    .dataframe tbody tr th {\n",
       "        vertical-align: top;\n",
       "    }\n",
       "\n",
       "    .dataframe thead th {\n",
       "        text-align: right;\n",
       "    }\n",
       "</style>\n",
       "<table border=\"1\" class=\"dataframe\">\n",
       "  <thead>\n",
       "    <tr style=\"text-align: right;\">\n",
       "      <th></th>\n",
       "      <th>submission_id</th>\n",
       "      <th>comment_id</th>\n",
       "      <th>subreddit</th>\n",
       "      <th>title</th>\n",
       "      <th>text</th>\n",
       "      <th>search_term</th>\n",
       "      <th>topic</th>\n",
       "      <th>label</th>\n",
       "    </tr>\n",
       "  </thead>\n",
       "  <tbody>\n",
       "    <tr>\n",
       "      <th>7846</th>\n",
       "      <td>r3h05q</td>\n",
       "      <td>hmbspmb</td>\n",
       "      <td>okc</td>\n",
       "      <td>Anyone involved with any animal rescues? There...</td>\n",
       "      <td>Try Hands Helping Paws for TNR and the shelter...</td>\n",
       "      <td>welfare</td>\n",
       "      <td>default</td>\n",
       "      <td>0</td>\n",
       "    </tr>\n",
       "    <tr>\n",
       "      <th>3644</th>\n",
       "      <td>17i3c12</td>\n",
       "      <td>k6uaz6b</td>\n",
       "      <td>okc</td>\n",
       "      <td>Mountain biking community here in okc?</td>\n",
       "      <td>I've been mtb around okc for a year now and I ...</td>\n",
       "      <td>community</td>\n",
       "      <td>default</td>\n",
       "      <td>0</td>\n",
       "    </tr>\n",
       "    <tr>\n",
       "      <th>22080</th>\n",
       "      <td>wg3r92</td>\n",
       "      <td>iiykl59</td>\n",
       "      <td>jacksonville</td>\n",
       "      <td>Local Politics Race Primer: Upcoming Sheriff Race</td>\n",
       "      <td>&gt;Clark has ran a very strong, active, ground c...</td>\n",
       "      <td>community needs</td>\n",
       "      <td>default</td>\n",
       "      <td>0</td>\n",
       "    </tr>\n",
       "    <tr>\n",
       "      <th>20093</th>\n",
       "      <td>wnwe3n</td>\n",
       "      <td>ikba3xh</td>\n",
       "      <td>jacksonville</td>\n",
       "      <td>Considering buying home in Winchester Ridge ar...</td>\n",
       "      <td>Have you thought about Middleburg close to the...</td>\n",
       "      <td>community</td>\n",
       "      <td>default</td>\n",
       "      <td>0</td>\n",
       "    </tr>\n",
       "    <tr>\n",
       "      <th>927</th>\n",
       "      <td>13yetqy</td>\n",
       "      <td>jmp6iyn</td>\n",
       "      <td>VirginiaBeach</td>\n",
       "      <td>Finding Asian Communities / how to make friend...</td>\n",
       "      <td>I would also recommend “north end running club...</td>\n",
       "      <td>community</td>\n",
       "      <td>default</td>\n",
       "      <td>0</td>\n",
       "    </tr>\n",
       "    <tr>\n",
       "      <th>...</th>\n",
       "      <td>...</td>\n",
       "      <td>...</td>\n",
       "      <td>...</td>\n",
       "      <td>...</td>\n",
       "      <td>...</td>\n",
       "      <td>...</td>\n",
       "      <td>...</td>\n",
       "      <td>...</td>\n",
       "    </tr>\n",
       "    <tr>\n",
       "      <th>2750</th>\n",
       "      <td>15godfj</td>\n",
       "      <td>jurmwzf</td>\n",
       "      <td>okc</td>\n",
       "      <td>Churches?</td>\n",
       "      <td>Hmm... They look similar to the church we went...</td>\n",
       "      <td>programs services household receive</td>\n",
       "      <td>entities</td>\n",
       "      <td>2</td>\n",
       "    </tr>\n",
       "    <tr>\n",
       "      <th>9584</th>\n",
       "      <td>uu5pfk</td>\n",
       "      <td>i9h3gtu</td>\n",
       "      <td>ColoradoSprings</td>\n",
       "      <td>Peace out, Colorado Springs!</td>\n",
       "      <td>Ugh, spiders?!  LOLZ\\n\\nSeriously, though, I t...</td>\n",
       "      <td>programs services household receive</td>\n",
       "      <td>entities</td>\n",
       "      <td>2</td>\n",
       "    </tr>\n",
       "    <tr>\n",
       "      <th>4310</th>\n",
       "      <td>17gaxij</td>\n",
       "      <td>k6fiup6</td>\n",
       "      <td>okc</td>\n",
       "      <td>Are Oklahoma schools really that bad? And by w...</td>\n",
       "      <td>I went to a poor school.  We didn't have other...</td>\n",
       "      <td>community</td>\n",
       "      <td>default</td>\n",
       "      <td>2</td>\n",
       "    </tr>\n",
       "    <tr>\n",
       "      <th>7874</th>\n",
       "      <td>73hpkr</td>\n",
       "      <td>dnrp2sg</td>\n",
       "      <td>okc</td>\n",
       "      <td>Oklahoma City is near the top of the affordabi...</td>\n",
       "      <td>FY18 we have budgeted 800B for defense and 400...</td>\n",
       "      <td>welfare</td>\n",
       "      <td>default</td>\n",
       "      <td>2</td>\n",
       "    </tr>\n",
       "    <tr>\n",
       "      <th>19066</th>\n",
       "      <td>wve3mn</td>\n",
       "      <td>ilglgag</td>\n",
       "      <td>jacksonville</td>\n",
       "      <td>\"Ad Valorem operating millage of 1mill\"</td>\n",
       "      <td>I understand. I will say that while the specif...</td>\n",
       "      <td>programs services household receive</td>\n",
       "      <td>entities</td>\n",
       "      <td>2</td>\n",
       "    </tr>\n",
       "  </tbody>\n",
       "</table>\n",
       "<p>200 rows × 8 columns</p>\n",
       "</div>"
      ],
      "text/plain": [
       "      submission_id comment_id        subreddit  \\\n",
       "7846         r3h05q    hmbspmb              okc   \n",
       "3644        17i3c12    k6uaz6b              okc   \n",
       "22080        wg3r92    iiykl59     jacksonville   \n",
       "20093        wnwe3n    ikba3xh     jacksonville   \n",
       "927         13yetqy    jmp6iyn    VirginiaBeach   \n",
       "...             ...        ...              ...   \n",
       "2750        15godfj    jurmwzf              okc   \n",
       "9584         uu5pfk    i9h3gtu  ColoradoSprings   \n",
       "4310        17gaxij    k6fiup6              okc   \n",
       "7874         73hpkr    dnrp2sg              okc   \n",
       "19066        wve3mn    ilglgag     jacksonville   \n",
       "\n",
       "                                                   title  \\\n",
       "7846   Anyone involved with any animal rescues? There...   \n",
       "3644              Mountain biking community here in okc?   \n",
       "22080  Local Politics Race Primer: Upcoming Sheriff Race   \n",
       "20093  Considering buying home in Winchester Ridge ar...   \n",
       "927    Finding Asian Communities / how to make friend...   \n",
       "...                                                  ...   \n",
       "2750                                           Churches?   \n",
       "9584                        Peace out, Colorado Springs!   \n",
       "4310   Are Oklahoma schools really that bad? And by w...   \n",
       "7874   Oklahoma City is near the top of the affordabi...   \n",
       "19066            \"Ad Valorem operating millage of 1mill\"   \n",
       "\n",
       "                                                    text  \\\n",
       "7846   Try Hands Helping Paws for TNR and the shelter...   \n",
       "3644   I've been mtb around okc for a year now and I ...   \n",
       "22080  >Clark has ran a very strong, active, ground c...   \n",
       "20093  Have you thought about Middleburg close to the...   \n",
       "927    I would also recommend “north end running club...   \n",
       "...                                                  ...   \n",
       "2750   Hmm... They look similar to the church we went...   \n",
       "9584   Ugh, spiders?!  LOLZ\\n\\nSeriously, though, I t...   \n",
       "4310   I went to a poor school.  We didn't have other...   \n",
       "7874   FY18 we have budgeted 800B for defense and 400...   \n",
       "19066  I understand. I will say that while the specif...   \n",
       "\n",
       "                               search_term     topic  label  \n",
       "7846                               welfare   default      0  \n",
       "3644                             community   default      0  \n",
       "22080                      community needs   default      0  \n",
       "20093                            community   default      0  \n",
       "927                              community   default      0  \n",
       "...                                    ...       ...    ...  \n",
       "2750   programs services household receive  entities      2  \n",
       "9584   programs services household receive  entities      2  \n",
       "4310                             community   default      2  \n",
       "7874                               welfare   default      2  \n",
       "19066  programs services household receive  entities      2  \n",
       "\n",
       "[200 rows x 8 columns]"
      ]
     },
     "execution_count": 52,
     "metadata": {},
     "output_type": "execute_result"
    }
   ],
   "source": [
    "a = res[res['label']==0].sample(50, random_state=42)\n",
    "b = res[res['label']==1].sample(50, random_state=42)\n",
    "c = res[res['label']==2].sample(100, random_state=42)\n",
    "d = pd.concat([a,b,c])\n",
    "d"
   ]
  },
  {
   "cell_type": "code",
   "execution_count": 54,
   "id": "0cb5ed03",
   "metadata": {},
   "outputs": [],
   "source": [
    "d = d.sample(frac=1)\n",
    "d.to_csv('in_the_wild_verification.csv')"
   ]
  },
  {
   "cell_type": "code",
   "execution_count": 56,
   "id": "66152469",
   "metadata": {},
   "outputs": [
    {
     "data": {
      "text/html": [
       "<div>\n",
       "<style scoped>\n",
       "    .dataframe tbody tr th:only-of-type {\n",
       "        vertical-align: middle;\n",
       "    }\n",
       "\n",
       "    .dataframe tbody tr th {\n",
       "        vertical-align: top;\n",
       "    }\n",
       "\n",
       "    .dataframe thead th {\n",
       "        text-align: right;\n",
       "    }\n",
       "</style>\n",
       "<table border=\"1\" class=\"dataframe\">\n",
       "  <thead>\n",
       "    <tr style=\"text-align: right;\">\n",
       "      <th></th>\n",
       "      <th>Unnamed: 0</th>\n",
       "      <th>submission_id</th>\n",
       "      <th>comment_id</th>\n",
       "      <th>subreddit</th>\n",
       "      <th>title</th>\n",
       "      <th>text</th>\n",
       "      <th>search_term</th>\n",
       "      <th>topic</th>\n",
       "      <th>label</th>\n",
       "      <th>expert_label</th>\n",
       "    </tr>\n",
       "  </thead>\n",
       "  <tbody>\n",
       "    <tr>\n",
       "      <th>0</th>\n",
       "      <td>541</td>\n",
       "      <td>wxcvwe</td>\n",
       "      <td>iltkb2r</td>\n",
       "      <td>VirginiaBeach</td>\n",
       "      <td>ABC true crime show to air story on Virginia B...</td>\n",
       "      <td>u/shotyoungman?</td>\n",
       "      <td>programs services household receive</td>\n",
       "      <td>entities</td>\n",
       "      <td>2</td>\n",
       "      <td>2</td>\n",
       "    </tr>\n",
       "    <tr>\n",
       "      <th>1</th>\n",
       "      <td>14739</td>\n",
       "      <td>zgb0gl</td>\n",
       "      <td>izfzlgu</td>\n",
       "      <td>ColoradoSprings</td>\n",
       "      <td>10 weekend things to do in and around Colorado...</td>\n",
       "      <td>There is also a Bill Burr comedy show at Broad...</td>\n",
       "      <td>community needs</td>\n",
       "      <td>default</td>\n",
       "      <td>0</td>\n",
       "      <td>0</td>\n",
       "    </tr>\n",
       "    <tr>\n",
       "      <th>2</th>\n",
       "      <td>9920</td>\n",
       "      <td>11nuemf</td>\n",
       "      <td>jbrpllg</td>\n",
       "      <td>ColoradoSprings</td>\n",
       "      <td>Buyer Beware - Very Kind Jewelry &amp; Piercing</td>\n",
       "      <td>The prices are not displayed anywhere. The cle...</td>\n",
       "      <td>programs services household receive</td>\n",
       "      <td>entities</td>\n",
       "      <td>2</td>\n",
       "      <td>2</td>\n",
       "    </tr>\n",
       "    <tr>\n",
       "      <th>3</th>\n",
       "      <td>13617</td>\n",
       "      <td>zfh58y</td>\n",
       "      <td>izel9et</td>\n",
       "      <td>ColoradoSprings</td>\n",
       "      <td>D20 School Board talking about segregated schools</td>\n",
       "      <td>Gregory's retirement or the segregated school?...</td>\n",
       "      <td>community needs</td>\n",
       "      <td>default</td>\n",
       "      <td>2</td>\n",
       "      <td>2</td>\n",
       "    </tr>\n",
       "    <tr>\n",
       "      <th>4</th>\n",
       "      <td>22658</td>\n",
       "      <td>18763kz</td>\n",
       "      <td>kbq4956</td>\n",
       "      <td>jacksonville</td>\n",
       "      <td>The Jags leaving would possibly transform the ...</td>\n",
       "      <td>Ah yes the point of government, to get itself ...</td>\n",
       "      <td>welfare</td>\n",
       "      <td>default</td>\n",
       "      <td>2</td>\n",
       "      <td>2</td>\n",
       "    </tr>\n",
       "    <tr>\n",
       "      <th>...</th>\n",
       "      <td>...</td>\n",
       "      <td>...</td>\n",
       "      <td>...</td>\n",
       "      <td>...</td>\n",
       "      <td>...</td>\n",
       "      <td>...</td>\n",
       "      <td>...</td>\n",
       "      <td>...</td>\n",
       "      <td>...</td>\n",
       "      <td>...</td>\n",
       "    </tr>\n",
       "    <tr>\n",
       "      <th>195</th>\n",
       "      <td>10385</td>\n",
       "      <td>acuhpw</td>\n",
       "      <td>edtirul</td>\n",
       "      <td>ColoradoSprings</td>\n",
       "      <td>Pet Cremains &amp; Local Pet Crematoriums (disturb...</td>\n",
       "      <td>Yeah, I can't imagine that it was soley my cat...</td>\n",
       "      <td>programs services household receive</td>\n",
       "      <td>entities</td>\n",
       "      <td>2</td>\n",
       "      <td>2</td>\n",
       "    </tr>\n",
       "    <tr>\n",
       "      <th>196</th>\n",
       "      <td>14188</td>\n",
       "      <td>ln7aq1</td>\n",
       "      <td>go70vsf</td>\n",
       "      <td>ColoradoSprings</td>\n",
       "      <td>For EVERY local complaining about Colorado Spr...</td>\n",
       "      <td>I was unable to attend but I did respond to th...</td>\n",
       "      <td>community needs</td>\n",
       "      <td>default</td>\n",
       "      <td>2</td>\n",
       "      <td>2</td>\n",
       "    </tr>\n",
       "    <tr>\n",
       "      <th>197</th>\n",
       "      <td>18560</td>\n",
       "      <td>17k2axi</td>\n",
       "      <td>k756or3</td>\n",
       "      <td>jacksonville</td>\n",
       "      <td>A warning regarding Eddison at Deerwood LC and...</td>\n",
       "      <td>Definitely update</td>\n",
       "      <td>programs services household receive</td>\n",
       "      <td>entities</td>\n",
       "      <td>2</td>\n",
       "      <td>2</td>\n",
       "    </tr>\n",
       "    <tr>\n",
       "      <th>198</th>\n",
       "      <td>9717</td>\n",
       "      <td>uu5pfk</td>\n",
       "      <td>i9fhysr</td>\n",
       "      <td>ColoradoSprings</td>\n",
       "      <td>Peace out, Colorado Springs!</td>\n",
       "      <td>&gt; No, just burned down cities in 2020\\n\\nWhich...</td>\n",
       "      <td>programs services household receive</td>\n",
       "      <td>entities</td>\n",
       "      <td>2</td>\n",
       "      <td>1</td>\n",
       "    </tr>\n",
       "    <tr>\n",
       "      <th>199</th>\n",
       "      <td>20795</td>\n",
       "      <td>16rgxph</td>\n",
       "      <td>k250ni4</td>\n",
       "      <td>jacksonville</td>\n",
       "      <td>Someone was just shot in killed in front of th...</td>\n",
       "      <td>Google operation \"fast &amp; furious\"</td>\n",
       "      <td>community</td>\n",
       "      <td>default</td>\n",
       "      <td>2</td>\n",
       "      <td>2</td>\n",
       "    </tr>\n",
       "  </tbody>\n",
       "</table>\n",
       "<p>200 rows × 10 columns</p>\n",
       "</div>"
      ],
      "text/plain": [
       "     Unnamed: 0 submission_id comment_id        subreddit  \\\n",
       "0           541        wxcvwe    iltkb2r    VirginiaBeach   \n",
       "1         14739        zgb0gl    izfzlgu  ColoradoSprings   \n",
       "2          9920       11nuemf    jbrpllg  ColoradoSprings   \n",
       "3         13617        zfh58y    izel9et  ColoradoSprings   \n",
       "4         22658       18763kz    kbq4956     jacksonville   \n",
       "..          ...           ...        ...              ...   \n",
       "195       10385        acuhpw    edtirul  ColoradoSprings   \n",
       "196       14188        ln7aq1    go70vsf  ColoradoSprings   \n",
       "197       18560       17k2axi    k756or3     jacksonville   \n",
       "198        9717        uu5pfk    i9fhysr  ColoradoSprings   \n",
       "199       20795       16rgxph    k250ni4     jacksonville   \n",
       "\n",
       "                                                 title  \\\n",
       "0    ABC true crime show to air story on Virginia B...   \n",
       "1    10 weekend things to do in and around Colorado...   \n",
       "2          Buyer Beware - Very Kind Jewelry & Piercing   \n",
       "3    D20 School Board talking about segregated schools   \n",
       "4    The Jags leaving would possibly transform the ...   \n",
       "..                                                 ...   \n",
       "195  Pet Cremains & Local Pet Crematoriums (disturb...   \n",
       "196  For EVERY local complaining about Colorado Spr...   \n",
       "197  A warning regarding Eddison at Deerwood LC and...   \n",
       "198                       Peace out, Colorado Springs!   \n",
       "199  Someone was just shot in killed in front of th...   \n",
       "\n",
       "                                                  text  \\\n",
       "0                                      u/shotyoungman?   \n",
       "1    There is also a Bill Burr comedy show at Broad...   \n",
       "2    The prices are not displayed anywhere. The cle...   \n",
       "3    Gregory's retirement or the segregated school?...   \n",
       "4    Ah yes the point of government, to get itself ...   \n",
       "..                                                 ...   \n",
       "195  Yeah, I can't imagine that it was soley my cat...   \n",
       "196  I was unable to attend but I did respond to th...   \n",
       "197                                  Definitely update   \n",
       "198  > No, just burned down cities in 2020\\n\\nWhich...   \n",
       "199                  Google operation \"fast & furious\"   \n",
       "\n",
       "                             search_term     topic  label  expert_label  \n",
       "0    programs services household receive  entities      2             2  \n",
       "1                        community needs   default      0             0  \n",
       "2    programs services household receive  entities      2             2  \n",
       "3                        community needs   default      2             2  \n",
       "4                                welfare   default      2             2  \n",
       "..                                   ...       ...    ...           ...  \n",
       "195  programs services household receive  entities      2             2  \n",
       "196                      community needs   default      2             2  \n",
       "197  programs services household receive  entities      2             2  \n",
       "198  programs services household receive  entities      2             1  \n",
       "199                            community   default      2             2  \n",
       "\n",
       "[200 rows x 10 columns]"
      ]
     },
     "execution_count": 56,
     "metadata": {},
     "output_type": "execute_result"
    }
   ],
   "source": [
    "d = pd.read_csv('data/itw_verification_labeled.csv')\n",
    "d"
   ]
  },
  {
   "cell_type": "code",
   "execution_count": 58,
   "id": "63d9bc1c",
   "metadata": {},
   "outputs": [
    {
     "data": {
      "text/plain": [
       "{'0': {'precision': 0.9,\n",
       "  'recall': 0.9183673469387755,\n",
       "  'f1-score': 0.9090909090909091,\n",
       "  'support': 49},\n",
       " '1': {'precision': 0.82,\n",
       "  'recall': 0.9534883720930233,\n",
       "  'f1-score': 0.8817204301075269,\n",
       "  'support': 43},\n",
       " '2': {'precision': 0.94,\n",
       "  'recall': 0.8703703703703703,\n",
       "  'f1-score': 0.9038461538461539,\n",
       "  'support': 108},\n",
       " 'accuracy': 0.9,\n",
       " 'macro avg': {'precision': 0.8866666666666667,\n",
       "  'recall': 0.9140753631340565,\n",
       "  'f1-score': 0.8982191643481966,\n",
       "  'support': 200},\n",
       " 'weighted avg': {'precision': 0.9044,\n",
       "  'recall': 0.9,\n",
       "  'f1-score': 0.9003740882773141,\n",
       "  'support': 200}}"
      ]
     },
     "execution_count": 58,
     "metadata": {},
     "output_type": "execute_result"
    }
   ],
   "source": [
    "sklearn.metrics.classification_report(y_pred=d['label'], y_true=d['expert_label'], output_dict=True)"
   ]
  },
  {
   "cell_type": "code",
   "execution_count": 65,
   "id": "e4052f3f",
   "metadata": {},
   "outputs": [
    {
     "data": {
      "image/png": "[encoded data removed]",
      "text/plain": [
       "<Figure size 640x480 with 2 Axes>"
      ]
     },
     "metadata": {},
     "output_type": "display_data"
    }
   ],
   "source": [
    "cm = sklearn.metrics.confusion_matrix(y_pred=d['label'], y_true=d['expert_label'], labels=None)\n",
    "disp = sklearn.metrics.ConfusionMatrixDisplay(confusion_matrix=cm)\n",
    "disp.plot()\n",
    "plt.show()"
   ]
  },
  {
   "cell_type": "code",
   "execution_count": 135,
   "id": "3f3a39b2",
   "metadata": {},
   "outputs": [],
   "source": [
    "import spacy\n",
    "nlp = spacy.load(\"en_core_web_sm\")"
   ]
  },
  {
   "cell_type": "markdown",
   "id": "b8038ec9",
   "metadata": {},
   "source": [
    "## Asset Significance Test"
   ]
  },
  {
   "cell_type": "code",
   "execution_count": 79,
   "id": "da0c7609",
   "metadata": {
    "scrolled": true
   },
   "outputs": [
    {
     "data": {
      "application/vnd.jupyter.widget-view+json": {
       "model_id": "68b303610659472e9cd4dafb164fb4d2",
       "version_major": 2,
       "version_minor": 0
      },
      "text/plain": [
       "Map:   0%|          | 0/3512 [00:00<?, ? examples/s]"
      ]
     },
     "metadata": {},
     "output_type": "display_data"
    }
   ],
   "source": [
    "# calculate number of entities\n",
    "def ner_mask(x):\n",
    "    doc = nlp(x['text'])\n",
    "    res = []\n",
    "    lbl = []\n",
    "    e_labels = ['ORG', 'NORP', 'GPE', 'PERSON', 'WORK_OF_ART']\n",
    "    for e in reversed(doc.ents): #reversed to not modify the offsets of other entities when substituting\n",
    "        if e.label_ in e_labels:\n",
    "            res.append(e.text)\n",
    "            lbl.append(e.label_)\n",
    "    x['num_entities'] = len(res)\n",
    "    return x\n",
    "# ner_mask(df.iloc[500])\n",
    "dt = datasets.Dataset.from_pandas(df)\n",
    "dt1 = dt.map(ner_mask)\n",
    "df1 = dt1.to_pandas()\n"
   ]
  },
  {
   "cell_type": "code",
   "execution_count": 82,
   "id": "e7c467ba",
   "metadata": {},
   "outputs": [
    {
     "data": {
      "text/plain": [
       "label\n",
       "asset    2.855042\n",
       "need     2.240763\n",
       "other    1.873464\n",
       "Name: num_entities, dtype: float64"
      ]
     },
     "execution_count": 82,
     "metadata": {},
     "output_type": "execute_result"
    }
   ],
   "source": [
    "df1.groupby('label')['num_entities'].mean()"
   ]
  },
  {
   "cell_type": "code",
   "execution_count": 81,
   "id": "fb46830c",
   "metadata": {},
   "outputs": [
    {
     "data": {
      "text/plain": [
       "2.094248291571754"
      ]
     },
     "execution_count": 81,
     "metadata": {},
     "output_type": "execute_result"
    }
   ],
   "source": [
    "df1['num_entities'].mean()"
   ]
  },
  {
   "cell_type": "code",
   "execution_count": 73,
   "id": "438c18fb",
   "metadata": {},
   "outputs": [],
   "source": [
    "from scipy.stats import normaltest, f_oneway"
   ]
  },
  {
   "cell_type": "code",
   "execution_count": 59,
   "id": "f5713515",
   "metadata": {},
   "outputs": [],
   "source": [
    "stat, p = normaltest(df1['num_entities'])"
   ]
  },
  {
   "cell_type": "code",
   "execution_count": 83,
   "id": "3d4746ad",
   "metadata": {},
   "outputs": [
    {
     "name": "stdout",
     "output_type": "stream",
     "text": [
      "stat=7.683, p=0.006\n",
      "Reject H0: Mean_num_assets=Mean_num_others\n"
     ]
    }
   ],
   "source": [
    "stat, p = f_oneway(df1[df1['label']=='asset']['num_entities'], df1[df1['label']!='asset']['num_entities'])\n",
    "print('stat=%.3f, p=%.3f' % (stat, p))\n",
    "if p > 0.05:\n",
    "\tprint('Cant Reject H0: Mean_num_assets=Mean_num_others')\n",
    "else:\n",
    "\tprint('Reject H0: Mean_num_assets=Mean_num_others')"
   ]
  },
  {
   "cell_type": "markdown",
   "id": "87746de5",
   "metadata": {},
   "source": [
    "## Need Significance Test"
   ]
  },
  {
   "cell_type": "code",
   "execution_count": 208,
   "id": "47f530cd",
   "metadata": {},
   "outputs": [],
   "source": [
    "def contingency_table(data, case='need'):\n",
    "    data = data.copy()\n",
    "    if case=='need':\n",
    "        ml = {'asset': 'other', 'need':'need', 'other': 'other'}\n",
    "        mp = {'asset': 'other', 'need':'negative', 'other': 'other'}\n",
    "    elif case=='asset':\n",
    "        ml = {'asset': 'asset', 'need':'other', 'other': 'other'}\n",
    "        mp = {'asset': 'positive', 'need':'other', 'other': 'other'}\n",
    "    else:\n",
    "        ml = {'asset':'asset', 'need':'need', 'other':'other'}\n",
    "        mp = {'asset':'positive', 'need':'negative', 'other':'neutral'}\n",
    "    data['predict'] = data['predict'].map(mp)\n",
    "    data['label'] = data['label'].map(ml)\n",
    "    display(data.groupby(['label', 'predict'])['predict'].count().unstack())\n",
    "    return data.groupby(['label', 'predict'])['predict'].count().unstack().to_numpy()"
   ]
  },
  {
   "cell_type": "code",
   "execution_count": 209,
   "id": "165ad894",
   "metadata": {},
   "outputs": [],
   "source": [
    "import numpy as np\n",
    "from scipy.stats import chi2_contingency\n",
    "def hypothesis_test(data, case=['need', 'negative']):\n",
    "    # Create the observed contingency table\n",
    "    print(\"Observed Counts:\")\n",
    "    contingency = contingency_table(data.copy(), case=case[0])\n",
    "    '''\n",
    "    1:\n",
    "    label | predict | Count\n",
    "    ------+---------+-------\n",
    "    asset | negative | 26\n",
    "    asset | other    | 450\n",
    "    need  | negative | 552\n",
    "    need  | other    | 287\n",
    "    other | negative | 992\n",
    "    other | other    | 1205\n",
    "    2:\n",
    "    label | predict | Count\n",
    "    ------+---------+-------\n",
    "    need  | negative | 552\n",
    "    need  | other    | 287\n",
    "    other | negative | 1018\n",
    "    other | other    | 1655\n",
    "    '''\n",
    "\n",
    "    print(f'Null Hypothesis (H0): The variables {case[0]} and {case[1]} are independent.')\n",
    "    print(f'Alternative Hypothesis (H1): There is a significant association between {case[0]} and {case[1]}.')\n",
    "\n",
    "    # Step 3: Create a Contingency Table\n",
    "    observed_counts = contingency\n",
    "\n",
    "    # Step 4: Calculate Expected Counts\n",
    "    chi2, p, dof, expected = chi2_contingency(observed_counts)\n",
    "\n",
    "    # Step 5: Compute Chi-Square Statistic\n",
    "    print(\"Chi-Square Statistic:\", chi2)\n",
    "\n",
    "    # Step 6: Determine Degrees of Freedom\n",
    "    print(\"Degrees of Freedom:\", dof)\n",
    "\n",
    "    # Step 7: Compare with Critical Value or P-Value\n",
    "    print(\"P-Value:\", p)\n",
    "    \n",
    "    print(\"Expected:\", expected)\n",
    "\n",
    "    # Step 8: Make a Decision\n",
    "    alpha = 0.05\n",
    "    if p < alpha:\n",
    "        print(f\"Reject the null hypothesis. There may be significant association between {case[0]} and {case[1]}.\")\n",
    "    else:\n",
    "        print(f\"Fail to reject the null hypothesis. There is no significant association between {case[0]} and {case[1]}.\")"
   ]
  },
  {
   "cell_type": "code",
   "execution_count": 210,
   "id": "0938934f",
   "metadata": {},
   "outputs": [
    {
     "name": "stdout",
     "output_type": "stream",
     "text": [
      "Observed Counts:\n"
     ]
    },
    {
     "data": {
      "text/html": [
       "<div>\n",
       "<style scoped>\n",
       "    .dataframe tbody tr th:only-of-type {\n",
       "        vertical-align: middle;\n",
       "    }\n",
       "\n",
       "    .dataframe tbody tr th {\n",
       "        vertical-align: top;\n",
       "    }\n",
       "\n",
       "    .dataframe thead th {\n",
       "        text-align: right;\n",
       "    }\n",
       "</style>\n",
       "<table border=\"1\" class=\"dataframe\">\n",
       "  <thead>\n",
       "    <tr style=\"text-align: right;\">\n",
       "      <th>predict</th>\n",
       "      <th>negative</th>\n",
       "      <th>other</th>\n",
       "    </tr>\n",
       "    <tr>\n",
       "      <th>label</th>\n",
       "      <th></th>\n",
       "      <th></th>\n",
       "    </tr>\n",
       "  </thead>\n",
       "  <tbody>\n",
       "    <tr>\n",
       "      <th>need</th>\n",
       "      <td>552</td>\n",
       "      <td>287</td>\n",
       "    </tr>\n",
       "    <tr>\n",
       "      <th>other</th>\n",
       "      <td>1018</td>\n",
       "      <td>1655</td>\n",
       "    </tr>\n",
       "  </tbody>\n",
       "</table>\n",
       "</div>"
      ],
      "text/plain": [
       "predict  negative  other\n",
       "label                   \n",
       "need          552    287\n",
       "other        1018   1655"
      ]
     },
     "metadata": {},
     "output_type": "display_data"
    },
    {
     "name": "stdout",
     "output_type": "stream",
     "text": [
      "Null Hypothesis (H0): The variables need and negative are independent.\n",
      "Alternative Hypothesis (H1): There is a significant association between need and negative.\n",
      "Chi-Square Statistic: 197.20630534515178\n",
      "Degrees of Freedom: 1\n",
      "P-Value: 8.501578487769044e-45\n",
      "Expected: [[ 375.06548975  463.93451025]\n",
      " [1194.93451025 1478.06548975]]\n",
      "Reject the null hypothesis. There may be significant association between need and negative.\n"
     ]
    }
   ],
   "source": [
    "hypothesis_test(senti, case=['need', 'negative'])"
   ]
  },
  {
   "cell_type": "code",
   "execution_count": 215,
   "id": "70653599",
   "metadata": {},
   "outputs": [
    {
     "name": "stdout",
     "output_type": "stream",
     "text": [
      "Observed Counts:\n"
     ]
    },
    {
     "data": {
      "text/html": [
       "<div>\n",
       "<style scoped>\n",
       "    .dataframe tbody tr th:only-of-type {\n",
       "        vertical-align: middle;\n",
       "    }\n",
       "\n",
       "    .dataframe tbody tr th {\n",
       "        vertical-align: top;\n",
       "    }\n",
       "\n",
       "    .dataframe thead th {\n",
       "        text-align: right;\n",
       "    }\n",
       "</style>\n",
       "<table border=\"1\" class=\"dataframe\">\n",
       "  <thead>\n",
       "    <tr style=\"text-align: right;\">\n",
       "      <th>predict</th>\n",
       "      <th>other</th>\n",
       "      <th>positive</th>\n",
       "    </tr>\n",
       "    <tr>\n",
       "      <th>label</th>\n",
       "      <th></th>\n",
       "      <th></th>\n",
       "    </tr>\n",
       "  </thead>\n",
       "  <tbody>\n",
       "    <tr>\n",
       "      <th>asset</th>\n",
       "      <td>198</td>\n",
       "      <td>278</td>\n",
       "    </tr>\n",
       "    <tr>\n",
       "      <th>other</th>\n",
       "      <td>2688</td>\n",
       "      <td>348</td>\n",
       "    </tr>\n",
       "  </tbody>\n",
       "</table>\n",
       "</div>"
      ],
      "text/plain": [
       "predict  other  positive\n",
       "label                   \n",
       "asset      198       278\n",
       "other     2688       348"
      ]
     },
     "metadata": {},
     "output_type": "display_data"
    },
    {
     "name": "stdout",
     "output_type": "stream",
     "text": [
      "Null Hypothesis (H0): The variables asset and positive are independent.\n",
      "Alternative Hypothesis (H1): There is a significant association between asset and positive.\n",
      "Chi-Square Statistic: 615.8064724191884\n",
      "Degrees of Freedom: 1\n",
      "P-Value: 6.107157020403415e-136\n",
      "Expected: [[ 391.15489749   84.84510251]\n",
      " [2494.84510251  541.15489749]]\n",
      "Reject the null hypothesis. There may be significant association between asset and positive.\n"
     ]
    }
   ],
   "source": [
    "hypothesis_test(senti, case=['asset', 'positive'])"
   ]
  },
  {
   "cell_type": "code",
   "execution_count": 214,
   "id": "47895d1f",
   "metadata": {
    "scrolled": true
   },
   "outputs": [
    {
     "name": "stdout",
     "output_type": "stream",
     "text": [
      "Observed Counts:\n"
     ]
    },
    {
     "data": {
      "text/html": [
       "<div>\n",
       "<style scoped>\n",
       "    .dataframe tbody tr th:only-of-type {\n",
       "        vertical-align: middle;\n",
       "    }\n",
       "\n",
       "    .dataframe tbody tr th {\n",
       "        vertical-align: top;\n",
       "    }\n",
       "\n",
       "    .dataframe thead th {\n",
       "        text-align: right;\n",
       "    }\n",
       "</style>\n",
       "<table border=\"1\" class=\"dataframe\">\n",
       "  <thead>\n",
       "    <tr style=\"text-align: right;\">\n",
       "      <th>predict</th>\n",
       "      <th>negative</th>\n",
       "      <th>neutral</th>\n",
       "      <th>positive</th>\n",
       "    </tr>\n",
       "    <tr>\n",
       "      <th>label</th>\n",
       "      <th></th>\n",
       "      <th></th>\n",
       "      <th></th>\n",
       "    </tr>\n",
       "  </thead>\n",
       "  <tbody>\n",
       "    <tr>\n",
       "      <th>asset</th>\n",
       "      <td>26</td>\n",
       "      <td>172</td>\n",
       "      <td>278</td>\n",
       "    </tr>\n",
       "    <tr>\n",
       "      <th>need</th>\n",
       "      <td>552</td>\n",
       "      <td>255</td>\n",
       "      <td>32</td>\n",
       "    </tr>\n",
       "    <tr>\n",
       "      <th>other</th>\n",
       "      <td>992</td>\n",
       "      <td>889</td>\n",
       "      <td>316</td>\n",
       "    </tr>\n",
       "  </tbody>\n",
       "</table>\n",
       "</div>"
      ],
      "text/plain": [
       "predict  negative  neutral  positive\n",
       "label                               \n",
       "asset          26      172       278\n",
       "need          552      255        32\n",
       "other         992      889       316"
      ]
     },
     "metadata": {},
     "output_type": "display_data"
    },
    {
     "name": "stdout",
     "output_type": "stream",
     "text": [
      "Null Hypothesis (H0): The variables conversation type and sentiment are independent.\n",
      "Alternative Hypothesis (H1): There is a significant association between conversation type and sentiment.\n",
      "Chi-Square Statistic: 810.9513588535095\n",
      "Degrees of Freedom: 4\n",
      "P-Value: 3.2597511307334003e-174\n",
      "Expected: [[212.7904328  178.36446469  84.84510251]\n",
      " [375.06548975 314.38610478 149.54840547]\n",
      " [982.14407745 823.24943052 391.60649203]]\n",
      "Reject the null hypothesis. There may be significant association between conversation type and sentiment.\n"
     ]
    }
   ],
   "source": [
    "hypothesis_test(senti, case=['conversation type', 'sentiment'])"
   ]
  },
  {
   "cell_type": "code",
   "execution_count": null,
   "id": "7932e24d",
   "metadata": {},
   "outputs": [],
   "source": []
  }
 ],
 "metadata": {
  "kernelspec": {
   "display_name": "Python 3 (ipykernel)",
   "language": "python",
   "name": "python3"
  },
  "language_info": {
   "codemirror_mode": {
    "name": "ipython",
    "version": 3
   },
   "file_extension": ".py",
   "mimetype": "text/x-python",
   "name": "python",
   "nbconvert_exporter": "python",
   "pygments_lexer": "ipython3",
   "version": "3.8.7"
  }
 },
 "nbformat": 4,
 "nbformat_minor": 5
}
